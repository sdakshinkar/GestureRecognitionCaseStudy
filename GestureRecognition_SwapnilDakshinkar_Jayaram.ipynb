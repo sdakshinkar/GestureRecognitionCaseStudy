{
  "cells": [
    {
      "cell_type": "markdown",
      "metadata": {
        "id": "pSDh1VZA1Mxd"
      },
      "source": [
        "# Gesture Recognition\n",
        "In this group project, you are going to build a 3D Conv model that will be able to predict the 5 gestures correctly. Please import the following libraries to get started."
      ]
    },
    {
      "cell_type": "code",
      "execution_count": 24,
      "metadata": {
        "colab": {
          "base_uri": "https://localhost:8080/"
        },
        "id": "L9jRPqFn1Mxf",
        "outputId": "e2f6f258-44f3-462d-d7b2-d236fa6a0090"
      },
      "outputs": [
        {
          "output_type": "stream",
          "name": "stdout",
          "text": [
            "Mounted at /content/drive/\n"
          ]
        }
      ],
      "source": [
        "from google.colab import drive\n",
        "drive.mount('/content/drive/')"
      ]
    },
    {
      "cell_type": "code",
      "source": [
        "# temp code\n",
        "# import os\n",
        "\n",
        "# def count_files_and_folders(directory):\n",
        "#     num_files = 0\n",
        "#     num_folders = 0\n",
        "\n",
        "#     for root, dirs, files in os.walk(directory):\n",
        "#         num_folders += len(dirs)\n",
        "#         num_files += len(files)\n",
        "\n",
        "#     return num_files, num_folders\n",
        "# # /content/drive/My Drive/AI/Upgrad/Melanoma_Assignment_CNN/CNN_assignment/Skin cancer ISIC The International Skin Imaging Collaboration/Train\n",
        "# # Example usage\n",
        "# directory = '/content/drive/My Drive/AI/Upgrad/Gesture_Recognition_CaseStudy/Project_data/Project_data/train'  # Replace with your directory path\n",
        "# files, folders = count_files_and_folders(directory)\n",
        "# print(f\"Number of files: {files}\")\n",
        "# print(f\"Number of folders: {folders}\")\n",
        "\n",
        "# directory = '/content/drive/My Drive/AI/Upgrad/Gesture_Recognition_CaseStudy/Project_data/Project_data/val'  # Replace with your directory path\n",
        "# files, folders = count_files_and_folders(directory)\n",
        "# print(f\"Number of files: {files}\")\n",
        "# print(f\"Number of folders: {folders}\")"
      ],
      "metadata": {
        "id": "hffLUY6KsHu0"
      },
      "execution_count": 25,
      "outputs": []
    },
    {
      "cell_type": "code",
      "execution_count": 26,
      "metadata": {
        "id": "KlL5B4UW1Mxf"
      },
      "outputs": [],
      "source": [
        "import numpy as np\n",
        "import os\n",
        "import matplotlib.pyplot as plt\n",
        "\n",
        "# from scipy.misc import imread, imresize\n",
        "from imageio import imread\n",
        "from PIL import Image\n",
        "# Resize using PIL.Image.resize\n",
        "# image = Image.fromarray(image)  # Convert to PIL Image\n",
        "# image = image.resize((100, 100))  # Resize to (100, 100)\n",
        "# image = np.array(image)  # Convert back to NumPy array\n",
        "\n",
        "import datetime\n",
        "import os\n",
        "\n",
        "from tensorflow import keras\n",
        "from tensorflow.keras import layers\n",
        "from tensorflow.keras.models import Sequential\n",
        "from tensorflow.keras.layers import Dense, Conv3D, MaxPooling3D , Flatten, Dropout, GlobalAveragePooling3D"
      ]
    },
    {
      "cell_type": "code",
      "source": [
        "#!pip install --upgrade tensorflow"
      ],
      "metadata": {
        "id": "OFV79ZhV4Aef"
      },
      "execution_count": 27,
      "outputs": []
    },
    {
      "cell_type": "markdown",
      "metadata": {
        "id": "TXHMtEJs1Mxg"
      },
      "source": [
        "We set the random seed so that the results don't vary drastically."
      ]
    },
    {
      "cell_type": "code",
      "execution_count": 28,
      "metadata": {
        "id": "0OLjsaxU1Mxg"
      },
      "outputs": [],
      "source": [
        "np.random.seed(30)\n",
        "import random as rn\n",
        "rn.seed(30)\n",
        "from keras import backend as K\n",
        "import tensorflow as tf\n",
        "\n",
        "#tf.set_random_seed(30)\n",
        "tf.random.set_seed(30)"
      ]
    },
    {
      "cell_type": "markdown",
      "metadata": {
        "id": "u2h37aCt1Mxg"
      },
      "source": [
        "In this block, you read the folder names for training and validation. You also set the `batch_size` here. Note that you set the batch size in such a way that you are able to use the GPU in full capacity. You keep increasing the batch size until the machine throws an error."
      ]
    },
    {
      "cell_type": "code",
      "execution_count": 29,
      "metadata": {
        "id": "c1F1p3B51Mxg"
      },
      "outputs": [],
      "source": [
        "train_doc = np.random.permutation(open('/content/drive/My Drive/AI/Upgrad/Gesture_Recognition_CaseStudy/Project_data/Project_data/train.csv').readlines())\n",
        "val_doc = np.random.permutation(open('/content/drive/My Drive/AI/Upgrad/Gesture_Recognition_CaseStudy/Project_data/Project_data/val.csv').readlines())\n",
        "\n",
        "#experiment with the batch size\n",
        "batch_size = 50\n"
      ]
    },
    {
      "cell_type": "code",
      "source": [
        "type(train_doc)"
      ],
      "metadata": {
        "colab": {
          "base_uri": "https://localhost:8080/"
        },
        "id": "_oh-8tpCE49_",
        "outputId": "bdb1048b-8d75-4fc3-d751-f69989ba066c"
      },
      "execution_count": 30,
      "outputs": [
        {
          "output_type": "execute_result",
          "data": {
            "text/plain": [
              "numpy.ndarray"
            ]
          },
          "metadata": {},
          "execution_count": 30
        }
      ]
    },
    {
      "cell_type": "markdown",
      "metadata": {
        "id": "OzYXkc4w1Mxg"
      },
      "source": [
        "## Generator\n",
        "This is one of the most important part of the code. The overall structure of the generator has been given. In the generator, you are going to preprocess the images as you have images of 2 different dimensions as well as create a batch of video frames. You have to experiment with `img_idx`, `y`,`z` and normalization such that you get high accuracy."
      ]
    },
    {
      "cell_type": "code",
      "execution_count": 69,
      "metadata": {
        "id": "Ux-Rcsm21Mxg"
      },
      "outputs": [],
      "source": [
        "#source_path = '/content/drive/My Drive/AI/Upgrad/Gesture_Recognition_CaseStudy/Project_data/Project_data'\n",
        "#folder_list = train_doc,val_doc above\n",
        "#batch_size = batch_size above\n",
        "def generator(source_path, folder_list, batch_size):\n",
        "    # print( 'Source path = ', source_path, '; batch size =', batch_size)\n",
        "    img_idx = [i for i in range(0,30,2)]\n",
        "    # img_idx = [i for i in range(0,30,1)]\n",
        "    while True:\n",
        "        # print('Here 1')\n",
        "        # print(folder_list)\n",
        "\n",
        "        t = np.random.permutation(folder_list) #temp comment\n",
        "\n",
        "        # calculate the number of batches\n",
        "        num_batches = int(len(folder_list)/batch_size)\n",
        "        # print('num_batches',num_batches)\n",
        "\n",
        "        for batch in range(num_batches): # we iterate over the number of batches\n",
        "            # print('111')\n",
        "            batch_data = np.zeros((batch_size,len(img_idx),120,160,3)) # x is the number of images you use for each video, (y,z) is the final size of the input images and 3 is the number of channels RGB\n",
        "            batch_labels = np.zeros((batch_size,5)) # batch_labels is the one hot representation of the output\n",
        "            for folder in range(batch_size): # iterate over the batch_size\n",
        "                # print('222')\n",
        "                imgs = os.listdir(source_path+'/'+ t[folder + (batch*batch_size)].split(';')[0]) # read all the images in the folder\n",
        "                # print(t[folder])\n",
        "                imgs = os.listdir(source_path+'/'+ t[folder + (batch*batch_size)].split(';')[0]) # read all the images in the folder\n",
        "                for idx,item in enumerate(img_idx): #  Iterate iver the frames/images of a folder to read them in\n",
        "                    # print('333')\n",
        "                    image = imread(source_path+'/'+ t[folder + (batch*batch_size)].strip().split(';')[0]+'/'+imgs[item]).astype(np.float32)\n",
        "                    #crop the images and resize them. Note that the images are of 2 different shape\n",
        "                    #and the conv3D will throw error if the inputs in a batch have different shapes\n",
        "                    image = Image.fromarray(image.astype(np.uint8))  # Convert to PIL Image\n",
        "                    image = image.resize((160, 120))  # Resize to (100, 100)\n",
        "                    image = np.array(image)  # Convert back to NumPy array\n",
        "\n",
        "                    # print(image[:,:,0],image[:,:,0],image[:,:,2])\n",
        "                    batch_data[folder,idx,:,:,0] = image[:,:,0]/255.0\n",
        "                    batch_data[folder,idx,:,:,1] = image[:,:,1]/255.0\n",
        "                    batch_data[folder,idx,:,:,2] = image[:,:,2]/255.0\n",
        "\n",
        "                batch_labels[folder, int(t[folder + (batch*batch_size)].strip().split(';')[2])] = 1\n",
        "            yield batch_data, batch_labels #you yield the batch_data and the batch_labels, remember what does yield do\n",
        "\n",
        "\n",
        "        # write the code for the remaining data points which are left after full batches\n",
        "        remaining_data_points = len(folder_list) - batch_size*num_batches\n",
        "        batch_data = np.zeros((batch_size,len(img_idx),120,160,3)) # x is the number of images you use for each video, (y,z) is the final size of the input images and 3 is the number of channels RGB\n",
        "        batch_labels = np.zeros((batch_size,5)) # batch_labels is the one hot representation of the output\n",
        "        for folder in range(len(folder_list)-remaining_data_points,len(folder_list)): # iterate over the batch_size\n",
        "            counter = 0\n",
        "            # print('remaining: ',t[folder])\n",
        "            imgs = os.listdir(source_path+'/'+ t[folder].split(';')[0]) # read all the images in the folder\n",
        "            for idx,item in enumerate(img_idx): #  Iterate iver the frames/images of a folder to read them in\n",
        "                image = imread(source_path+'/'+ t[folder].strip().split(';')[0]+'/'+imgs[item]).astype(np.float32)\n",
        "\n",
        "                #crop the images and resize them. Note that the images are of 2 different shape\n",
        "                #and the conv3D will throw error if the inputs in a batch have different shapes\n",
        "                image = Image.fromarray(image.astype(np.uint8))  # Convert to PIL Image\n",
        "                image = image.resize((160,120))  # Resize to (100, 100)\n",
        "                image = np.array(image)  # Convert back to NumPy array\n",
        "\n",
        "                # print(image[:,:,0]/255.0,image[:,:,0]/255.0,image[:,:,2]/255.0)\n",
        "                batch_data[counter,idx,:,:,0] = image[:,:,0]/255.0\n",
        "                batch_data[counter,idx,:,:,1] = image[:,:,1]/255.0\n",
        "                batch_data[counter,idx,:,:,2] = image[:,:,2]/255.0\n",
        "\n",
        "            batch_labels[counter, int(t[counter].strip().split(';')[2])] = 1\n",
        "            counter += 1\n",
        "        yield batch_data, batch_labels #you yield the batch_data and the batch_labels, remember what does yield do\n",
        "\n",
        "\n",
        "\n"
      ]
    },
    {
      "cell_type": "code",
      "source": [
        "# # temp code\n",
        "# train_doc2 = open('/content/drive/My Drive/AI/Upgrad/Gesture_Recognition_CaseStudy/Project_data/temp/train.csv').readlines()\n",
        "# val_doc2 = open('/content/drive/My Drive/AI/Upgrad/Gesture_Recognition_CaseStudy/Project_data/temp/val.csv').readlines()"
      ],
      "metadata": {
        "id": "lqR4darmFXLO"
      },
      "execution_count": 32,
      "outputs": []
    },
    {
      "cell_type": "code",
      "source": [
        "# # temp code\n",
        "# source_path = '/content/drive/My Drive/AI/Upgrad/Gesture_Recognition_CaseStudy/Project_data/temp/train'\n",
        "# # source_path = '/content/drive/My Drive/AI/Upgrad/Gesture_Recognition_CaseStudy/Project_data/Project_data/train'\n",
        "# folder_list = train_doc2\n",
        "# batch_size = 4\n",
        "# generator(source_path, folder_list, batch_size)"
      ],
      "metadata": {
        "id": "K0v0N8lhVlyh"
      },
      "execution_count": 33,
      "outputs": []
    },
    {
      "cell_type": "markdown",
      "metadata": {
        "id": "uI9tJ5B81Mxh"
      },
      "source": [
        "Note here that a video is represented above in the generator as (number of images, height, width, number of channels). Take this into consideration while creating the model architecture."
      ]
    },
    {
      "cell_type": "code",
      "execution_count": 34,
      "metadata": {
        "colab": {
          "base_uri": "https://localhost:8080/"
        },
        "id": "I6CQfGCa1Mxh",
        "outputId": "122d657b-c927-4cb4-b348-244525ef7625"
      },
      "outputs": [
        {
          "output_type": "stream",
          "name": "stdout",
          "text": [
            "# training sequences = 663\n",
            "# validation sequences = 100\n",
            "# epochs = 20\n"
          ]
        }
      ],
      "source": [
        "curr_dt_time = datetime.datetime.now()\n",
        "train_path = '/content/drive/My Drive/AI/Upgrad/Gesture_Recognition_CaseStudy/Project_data/Project_data/train'\n",
        "val_path = '/content/drive/My Drive/AI/Upgrad/Gesture_Recognition_CaseStudy/Project_data/Project_data/val'\n",
        "num_train_sequences = len(train_doc)\n",
        "print('# training sequences =', num_train_sequences)\n",
        "num_val_sequences = len(val_doc)\n",
        "print('# validation sequences =', num_val_sequences)\n",
        "num_epochs = 20\n",
        "print ('# epochs =', num_epochs)"
      ]
    },
    {
      "cell_type": "markdown",
      "metadata": {
        "id": "Cqg028uQ1Mxh"
      },
      "source": [
        "## Model\n",
        "Here you make the model using different functionalities that Keras provides. Remember to use `Conv3D` and `MaxPooling3D` and not `Conv2D` and `Maxpooling2D` for a 3D convolution model. You would want to use `TimeDistributed` while building a Conv2D + RNN model. Also remember that the last layer is the softmax. Design the network in such a way that the model is able to give good accuracy on the least number of parameters so that it can fit in the memory of the webcam."
      ]
    },
    {
      "cell_type": "code",
      "execution_count": 35,
      "metadata": {
        "id": "2aV4f7Lz1Mxh"
      },
      "outputs": [],
      "source": [
        "from keras.models import Sequential, Model\n",
        "from keras.layers import Dense, GRU, Flatten, TimeDistributed, Flatten, BatchNormalization, Activation,Conv3D, MaxPooling3D, GlobalAveragePooling3D, Dropout\n",
        "# from keras.layers.convolutional import Conv3D, MaxPooling3D\n",
        "from keras.callbacks import ModelCheckpoint, ReduceLROnPlateau\n",
        "from keras import optimizers\n",
        "\n",
        "#write your model here\n"
      ]
    },
    {
      "cell_type": "code",
      "source": [
        "# img_idx = [i for i in range(0,30,2)]\n",
        "img_idx = [i for i in range(0,30,1)]\n",
        "len(img_idx)"
      ],
      "metadata": {
        "colab": {
          "base_uri": "https://localhost:8080/"
        },
        "id": "TGya5Df9OZaQ",
        "outputId": "cbb1e43c-a190-4014-f110-028ec9ab67b9"
      },
      "execution_count": 36,
      "outputs": [
        {
          "output_type": "execute_result",
          "data": {
            "text/plain": [
              "30"
            ]
          },
          "metadata": {},
          "execution_count": 36
        }
      ]
    },
    {
      "cell_type": "code",
      "source": [
        "def fitmodel(model):\n",
        "  optimiser = 'adam'\n",
        "  model.compile(optimizer=optimiser, loss='categorical_crossentropy', metrics=['categorical_accuracy'])\n",
        "  print (model.summary())\n",
        "\n",
        "  train_generator = generator(train_path, train_doc, batch_size)\n",
        "  val_generator = generator(val_path, val_doc, batch_size)\n",
        "\n",
        "  model_name = 'model_init' + '_' + str(curr_dt_time).replace(' ','').replace(':','_') + '/'\n",
        "\n",
        "  if not os.path.exists(model_name):\n",
        "      os.mkdir(model_name)\n",
        "\n",
        "  filepath = model_name + 'model-{epoch:05d}-{loss:.5f}-{categorical_accuracy:.5f}-{val_loss:.5f}-{val_categorical_accuracy:.5f}.keras'\n",
        "\n",
        "  checkpoint = ModelCheckpoint(filepath, monitor='val_loss', verbose=1, save_best_only=False, save_weights_only=False, mode='auto', save_freq='epoch')\n",
        "\n",
        "  LR = ReduceLROnPlateau(monitor='val_loss', factor=0.5, patience=3, verbose=1, mode='auto', min_lr=0.00001)\n",
        "  callbacks_list = [checkpoint, LR]\n",
        "\n",
        "  if (num_train_sequences%batch_size) == 0:\n",
        "      steps_per_epoch = int(num_train_sequences/batch_size)\n",
        "  else:\n",
        "      steps_per_epoch = (num_train_sequences//batch_size) + 1\n",
        "\n",
        "  if (num_val_sequences%batch_size) == 0:\n",
        "      validation_steps = int(num_val_sequences/batch_size)\n",
        "  else:\n",
        "      validation_steps = (num_val_sequences//batch_size) + 1\n",
        "\n",
        "  model.fit(train_generator, steps_per_epoch=steps_per_epoch, epochs=num_epochs, verbose=0,\n",
        "                      callbacks=callbacks_list, validation_data=val_generator,\n",
        "                      validation_steps=validation_steps, class_weight=None,  initial_epoch=0)\n"
      ],
      "metadata": {
        "id": "T0fNW4nVGxPg"
      },
      "execution_count": 37,
      "outputs": []
    },
    {
      "cell_type": "markdown",
      "source": [
        "### Model Experiment1"
      ],
      "metadata": {
        "id": "122vg8hHEizx"
      }
    },
    {
      "cell_type": "code",
      "source": [
        "# model = Sequential()\n",
        "\n",
        "# model.add(Conv3D(32, (3,3,3), padding='same', activation='relu', input_shape=(len(img_idx),120, 160, 3)))\n",
        "# model.add(MaxPooling3D(pool_size=(2, 2, 2)))\n",
        "# model.add(Dropout(0.25))\n",
        "\n",
        "# model.add(Conv3D(64, (3,3,3), padding='same', activation='relu'))\n",
        "# model.add(MaxPooling3D(pool_size=(2, 2, 2)))\n",
        "# model.add(Dropout(0.25))\n",
        "\n",
        "# model.add(Conv3D(128, (3,3,3), padding='same', activation='relu'))\n",
        "# model.add(MaxPooling3D(pool_size=(2, 2, 2)))\n",
        "# model.add(Dropout(0.25))\n",
        "\n",
        "# model.add(Conv3D(256, (3,3,3), padding='same', activation='relu'))\n",
        "# model.add(MaxPooling3D(pool_size=(2, 2, 2)))\n",
        "# model.add(Dropout(0.25))\n",
        "\n",
        "# # model.add(Flatten())\n",
        "# model.add(GlobalAveragePooling3D())\n",
        "# model.add(Dense(256, activation='relu'))\n",
        "# model.add(Dropout(0.5))\n",
        "# model.add(Dense(5, activation='softmax'))"
      ],
      "metadata": {
        "id": "Tv-w3USnC1GV"
      },
      "execution_count": 38,
      "outputs": []
    },
    {
      "cell_type": "markdown",
      "metadata": {
        "id": "DvbDpWrY1Mxh"
      },
      "source": [
        "Now that you have written the model, the next step is to `compile` the model. When you print the `summary` of the model, you'll see the total number of parameters you have to train."
      ]
    },
    {
      "cell_type": "code",
      "execution_count": 39,
      "metadata": {
        "scrolled": true,
        "id": "LBalP6Wp1Mxh"
      },
      "outputs": [],
      "source": [
        "# optimiser = 'adam'\n",
        "# model.compile(optimizer=optimiser, loss='categorical_crossentropy', metrics=['categorical_accuracy'])\n",
        "# print (model.summary())"
      ]
    },
    {
      "cell_type": "markdown",
      "metadata": {
        "id": "XRzUEIxd1Mxh"
      },
      "source": [
        "Let us create the `train_generator` and the `val_generator` which will be used in `.fit_generator`."
      ]
    },
    {
      "cell_type": "code",
      "execution_count": 40,
      "metadata": {
        "id": "3BTVKYP91Mxh"
      },
      "outputs": [],
      "source": [
        "# train_generator = generator(train_path, train_doc, batch_size)\n",
        "# val_generator = generator(val_path, val_doc, batch_size)"
      ]
    },
    {
      "cell_type": "code",
      "execution_count": 41,
      "metadata": {
        "id": "1f_T61A21Mxh"
      },
      "outputs": [],
      "source": [
        "# model_name = 'model_init' + '_' + str(curr_dt_time).replace(' ','').replace(':','_') + '/'\n",
        "\n",
        "# if not os.path.exists(model_name):\n",
        "#     os.mkdir(model_name)\n",
        "\n",
        "# filepath = model_name + 'model-{epoch:05d}-{loss:.5f}-{categorical_accuracy:.5f}-{val_loss:.5f}-{val_categorical_accuracy:.5f}.keras'\n",
        "\n",
        "# checkpoint = ModelCheckpoint(filepath, monitor='val_loss', verbose=1, save_best_only=False, save_weights_only=False, mode='auto', save_freq='epoch')\n",
        "\n",
        "# LR = ReduceLROnPlateau(monitor='val_loss', factor=0.5, patience=3, verbose=1, mode='auto', min_lr=0.00001)\n",
        "# callbacks_list = [checkpoint, LR]"
      ]
    },
    {
      "cell_type": "markdown",
      "metadata": {
        "id": "XwB9AzBu1Mxi"
      },
      "source": [
        "The `steps_per_epoch` and `validation_steps` are used by `fit_generator` to decide the number of next() calls it need to make."
      ]
    },
    {
      "cell_type": "code",
      "execution_count": 42,
      "metadata": {
        "id": "kIezn1Kn1Mxi"
      },
      "outputs": [],
      "source": [
        "# if (num_train_sequences%batch_size) == 0:\n",
        "#     steps_per_epoch = int(num_train_sequences/batch_size)\n",
        "# else:\n",
        "#     steps_per_epoch = (num_train_sequences//batch_size) + 1\n",
        "\n",
        "# if (num_val_sequences%batch_size) == 0:\n",
        "#     validation_steps = int(num_val_sequences/batch_size)\n",
        "# else:\n",
        "#     validation_steps = (num_val_sequences//batch_size) + 1"
      ]
    },
    {
      "cell_type": "markdown",
      "metadata": {
        "id": "_gkqSVi_1Mxi"
      },
      "source": [
        "Let us now fit the model. This will start training the model and with the help of the checkpoints, you'll be able to save the model at the end of each epoch."
      ]
    },
    {
      "cell_type": "code",
      "execution_count": 43,
      "metadata": {
        "id": "1SxKNpzC1Mxi"
      },
      "outputs": [],
      "source": [
        "# model.fit(train_generator, steps_per_epoch=steps_per_epoch, epochs=num_epochs, verbose=0,\n",
        "#                     callbacks=callbacks_list, validation_data=val_generator,\n",
        "#                     validation_steps=validation_steps, class_weight=None,  initial_epoch=0)"
      ]
    },
    {
      "cell_type": "markdown",
      "source": [
        "### Model too complex , running for too much time , simplifying"
      ],
      "metadata": {
        "id": "Xghj_Zp0JTme"
      }
    },
    {
      "cell_type": "markdown",
      "source": [
        "### Model Experiment2"
      ],
      "metadata": {
        "id": "OSg6MOQsEvg1"
      }
    },
    {
      "cell_type": "code",
      "source": [
        "model = Sequential()\n",
        "\n",
        "model.add(Conv3D(32, (3,3,3), padding='same', activation='relu', strides=(1, 2, 2), input_shape=(len(img_idx),120, 160, 3)))\n",
        "model.add(MaxPooling3D(pool_size=(2, 2, 2)))\n",
        "model.add(Dropout(0.25))\n",
        "\n",
        "model.add(Conv3D(64, (3,3,3), padding='same', activation='relu', strides=(1, 2, 2)))\n",
        "model.add(MaxPooling3D(pool_size=(2, 2, 2)))\n",
        "model.add(Dropout(0.25))\n",
        "\n",
        "# model.add(Conv3D(128, (3,3,3), padding='same', activation='relu'))\n",
        "# model.add(MaxPooling3D(pool_size=(2, 2, 2)))\n",
        "# model.add(Dropout(0.25))\n",
        "\n",
        "# model.add(Conv3D(256, (3,3,3), padding='same', activation='relu'))\n",
        "# model.add(MaxPooling3D(pool_size=(2, 2, 2)))\n",
        "# model.add(Dropout(0.25))\n",
        "\n",
        "# model.add(Flatten())\n",
        "model.add(GlobalAveragePooling3D())\n",
        "model.add(Dense(256, activation='relu'))\n",
        "model.add(Dropout(0.5))\n",
        "model.add(Dense(5, activation='softmax'))\n",
        "\n"
      ],
      "metadata": {
        "id": "y7kAMs9UEsw-"
      },
      "execution_count": 44,
      "outputs": []
    },
    {
      "cell_type": "code",
      "execution_count": 45,
      "metadata": {
        "id": "CuzUX6Bl1Mxi",
        "colab": {
          "base_uri": "https://localhost:8080/"
        },
        "outputId": "a0dc77ca-a27d-41ac-883c-21e212c94d0c"
      },
      "outputs": [
        {
          "output_type": "stream",
          "name": "stdout",
          "text": [
            "Model: \"sequential_9\"\n",
            "_________________________________________________________________\n",
            " Layer (type)                Output Shape              Param #   \n",
            "=================================================================\n",
            " conv3d_15 (Conv3D)          (None, 30, 60, 80, 32)    2624      \n",
            "                                                                 \n",
            " max_pooling3d_15 (MaxPooli  (None, 15, 30, 40, 32)    0         \n",
            " ng3D)                                                           \n",
            "                                                                 \n",
            " dropout_22 (Dropout)        (None, 15, 30, 40, 32)    0         \n",
            "                                                                 \n",
            " conv3d_16 (Conv3D)          (None, 15, 15, 20, 64)    55360     \n",
            "                                                                 \n",
            " max_pooling3d_16 (MaxPooli  (None, 7, 7, 10, 64)      0         \n",
            " ng3D)                                                           \n",
            "                                                                 \n",
            " dropout_23 (Dropout)        (None, 7, 7, 10, 64)      0         \n",
            "                                                                 \n",
            " global_average_pooling3d_1  (None, 64)                0         \n",
            "  (GlobalAveragePooling3D)                                       \n",
            "                                                                 \n",
            " dense_14 (Dense)            (None, 256)               16640     \n",
            "                                                                 \n",
            " dropout_24 (Dropout)        (None, 256)               0         \n",
            "                                                                 \n",
            " dense_15 (Dense)            (None, 5)                 1285      \n",
            "                                                                 \n",
            "=================================================================\n",
            "Total params: 75909 (296.52 KB)\n",
            "Trainable params: 75909 (296.52 KB)\n",
            "Non-trainable params: 0 (0.00 Byte)\n",
            "_________________________________________________________________\n"
          ]
        }
      ],
      "source": [
        "model.summary()"
      ]
    },
    {
      "cell_type": "code",
      "source": [
        "fitmodel(model)"
      ],
      "metadata": {
        "colab": {
          "base_uri": "https://localhost:8080/"
        },
        "id": "hwyXfhJDk9o_",
        "outputId": "7ef3408e-2aed-46ba-c87d-126208097f5c"
      },
      "execution_count": 47,
      "outputs": [
        {
          "output_type": "stream",
          "name": "stdout",
          "text": [
            "Model: \"sequential_9\"\n",
            "_________________________________________________________________\n",
            " Layer (type)                Output Shape              Param #   \n",
            "=================================================================\n",
            " conv3d_15 (Conv3D)          (None, 30, 60, 80, 32)    2624      \n",
            "                                                                 \n",
            " max_pooling3d_15 (MaxPooli  (None, 15, 30, 40, 32)    0         \n",
            " ng3D)                                                           \n",
            "                                                                 \n",
            " dropout_22 (Dropout)        (None, 15, 30, 40, 32)    0         \n",
            "                                                                 \n",
            " conv3d_16 (Conv3D)          (None, 15, 15, 20, 64)    55360     \n",
            "                                                                 \n",
            " max_pooling3d_16 (MaxPooli  (None, 7, 7, 10, 64)      0         \n",
            " ng3D)                                                           \n",
            "                                                                 \n",
            " dropout_23 (Dropout)        (None, 7, 7, 10, 64)      0         \n",
            "                                                                 \n",
            " global_average_pooling3d_1  (None, 64)                0         \n",
            "  (GlobalAveragePooling3D)                                       \n",
            "                                                                 \n",
            " dense_14 (Dense)            (None, 256)               16640     \n",
            "                                                                 \n",
            " dropout_24 (Dropout)        (None, 256)               0         \n",
            "                                                                 \n",
            " dense_15 (Dense)            (None, 5)                 1285      \n",
            "                                                                 \n",
            "=================================================================\n",
            "Total params: 75909 (296.52 KB)\n",
            "Trainable params: 75909 (296.52 KB)\n",
            "Non-trainable params: 0 (0.00 Byte)\n",
            "_________________________________________________________________\n",
            "None\n"
          ]
        },
        {
          "output_type": "stream",
          "name": "stderr",
          "text": [
            "<ipython-input-31-c0c78d1fc080>:29: DeprecationWarning: Starting with ImageIO v3 the behavior of this function will switch to that of iio.v3.imread. To keep the current behavior (and make this warning disappear) use `import imageio.v2 as imageio` or call `imageio.v2.imread` directly.\n",
            "  image = imread(source_path+'/'+ t[folder + (batch*batch_size)].strip().split(';')[0]+'/'+imgs[item]).astype(np.float32)\n",
            "<ipython-input-31-c0c78d1fc080>:54: DeprecationWarning: Starting with ImageIO v3 the behavior of this function will switch to that of iio.v3.imread. To keep the current behavior (and make this warning disappear) use `import imageio.v2 as imageio` or call `imageio.v2.imread` directly.\n",
            "  image = imread(source_path+'/'+ t[folder].strip().split(';')[0]+'/'+imgs[item]).astype(np.float32)\n"
          ]
        },
        {
          "output_type": "stream",
          "name": "stdout",
          "text": [
            "\n",
            "Epoch 1: saving model to model_init_2025-01-0305_13_55.125308/model-00001-1.50215-0.17714-1.59780-0.23000.keras\n",
            "\n",
            "Epoch 2: saving model to model_init_2025-01-0305_13_55.125308/model-00002-1.49243-0.20143-1.59729-0.23000.keras\n",
            "\n",
            "Epoch 3: saving model to model_init_2025-01-0305_13_55.125308/model-00003-1.48982-0.18571-1.59600-0.33000.keras\n",
            "\n",
            "Epoch 4: saving model to model_init_2025-01-0305_13_55.125308/model-00004-1.48447-0.23000-1.57280-0.23000.keras\n",
            "\n",
            "Epoch 5: saving model to model_init_2025-01-0305_13_55.125308/model-00005-1.46805-0.24000-1.56003-0.23000.keras\n",
            "\n",
            "Epoch 6: saving model to model_init_2025-01-0305_13_55.125308/model-00006-1.45040-0.22857-1.51494-0.28000.keras\n",
            "\n",
            "Epoch 7: saving model to model_init_2025-01-0305_13_55.125308/model-00007-1.40940-0.28286-1.44939-0.31000.keras\n",
            "\n",
            "Epoch 8: saving model to model_init_2025-01-0305_13_55.125308/model-00008-1.35961-0.31571-1.35452-0.36000.keras\n",
            "\n",
            "Epoch 9: saving model to model_init_2025-01-0305_13_55.125308/model-00009-1.29978-0.33000-1.27429-0.48000.keras\n",
            "\n",
            "Epoch 10: saving model to model_init_2025-01-0305_13_55.125308/model-00010-1.25211-0.35714-1.31278-0.48000.keras\n",
            "\n",
            "Epoch 11: saving model to model_init_2025-01-0305_13_55.125308/model-00011-1.22019-0.35286-1.19060-0.47000.keras\n",
            "\n",
            "Epoch 12: saving model to model_init_2025-01-0305_13_55.125308/model-00012-1.16245-0.39143-0.56276-0.27000.keras\n",
            "\n",
            "Epoch 13: saving model to model_init_2025-01-0305_13_55.125308/model-00013-1.14367-0.39571-0.56967-0.23000.keras\n",
            "\n",
            "Epoch 14: saving model to model_init_2025-01-0305_13_55.125308/model-00014-1.13309-0.42143-0.59089-0.25000.keras\n",
            "\n",
            "Epoch 15: saving model to model_init_2025-01-0305_13_55.125308/model-00015-1.13985-0.41714-0.56185-0.25000.keras\n",
            "\n",
            "Epoch 16: saving model to model_init_2025-01-0305_13_55.125308/model-00016-1.11106-0.42714-0.52234-0.31000.keras\n",
            "\n",
            "Epoch 17: saving model to model_init_2025-01-0305_13_55.125308/model-00017-1.08114-0.43857-0.49365-0.36000.keras\n",
            "\n",
            "Epoch 18: saving model to model_init_2025-01-0305_13_55.125308/model-00018-1.08565-0.44143-0.54661-0.76000.keras\n",
            "\n",
            "Epoch 19: saving model to model_init_2025-01-0305_13_55.125308/model-00019-1.05949-0.47286-0.48905-0.31000.keras\n",
            "\n",
            "Epoch 20: saving model to model_init_2025-01-0305_13_55.125308/model-00020-1.07136-0.45571-0.52764-0.77000.keras\n"
          ]
        }
      ]
    },
    {
      "cell_type": "markdown",
      "source": [
        "### for this model train accuracy seem to be increasing with every epoch , but validation accuarcy seem to be unstable ,"
      ],
      "metadata": {
        "id": "gEUVWtN7X7O6"
      }
    },
    {
      "cell_type": "markdown",
      "source": [
        "### **Model 3**"
      ],
      "metadata": {
        "id": "uA2YSdnCZHbC"
      }
    },
    {
      "cell_type": "code",
      "source": [
        "img_idx = [i for i in range(0,30,2)]\n",
        "# img_idx = [i for i in range(0,30,1)]\n",
        "len(img_idx)"
      ],
      "metadata": {
        "colab": {
          "base_uri": "https://localhost:8080/"
        },
        "id": "wh3LnYBLcXk7",
        "outputId": "f759295a-e3b3-4fdd-91e4-0d0bb73c30ca"
      },
      "execution_count": 71,
      "outputs": [
        {
          "output_type": "execute_result",
          "data": {
            "text/plain": [
              "15"
            ]
          },
          "metadata": {},
          "execution_count": 71
        }
      ]
    },
    {
      "cell_type": "code",
      "source": [
        "model = Sequential()\n",
        "\n",
        "model.add(Conv3D(32, (3,3,3), padding='same', activation='relu', strides=(1, 2, 2), input_shape=(len(img_idx),120, 160, 3)))\n",
        "model.add(MaxPooling3D(pool_size=(2, 2, 2)))\n",
        "model.add(Dropout(0.25))\n",
        "\n",
        "model.add(Conv3D(64, (3,3,3), padding='same', activation='relu', strides=(1, 2, 2)))\n",
        "model.add(MaxPooling3D(pool_size=(2, 2, 2)))\n",
        "model.add(Dropout(0.25))\n",
        "\n",
        "model.add(Conv3D(128, (3,3,3), padding='same', activation='relu', strides=(1, 2, 2)))\n",
        "model.add(MaxPooling3D(pool_size=(2, 2, 2)))\n",
        "model.add(Dropout(0.25))\n",
        "\n",
        "# model.add(Conv3D(256, (3,3,3), padding='same', activation='relu'))\n",
        "# model.add(MaxPooling3D(pool_size=(2, 2, 2)))\n",
        "# model.add(Dropout(0.25))\n",
        "\n",
        "# model.add(Flatten())\n",
        "model.add(GlobalAveragePooling3D())\n",
        "model.add(Dense(128, activation='relu'))\n",
        "model.add(Dropout(0.5))\n",
        "model.add(Dense(5, activation='softmax'))"
      ],
      "metadata": {
        "id": "lEUc8BKBYyUB"
      },
      "execution_count": 75,
      "outputs": []
    },
    {
      "cell_type": "code",
      "source": [
        "fitmodel(model)"
      ],
      "metadata": {
        "colab": {
          "base_uri": "https://localhost:8080/"
        },
        "id": "0lwYW0EGjnlw",
        "outputId": "a17e8bcf-f627-4dfc-8b8f-e8ea67a750b7"
      },
      "execution_count": 72,
      "outputs": [
        {
          "output_type": "stream",
          "name": "stdout",
          "text": [
            "Model: \"sequential_17\"\n",
            "_________________________________________________________________\n",
            " Layer (type)                Output Shape              Param #   \n",
            "=================================================================\n",
            " conv3d_39 (Conv3D)          (None, 15, 60, 80, 32)    2624      \n",
            "                                                                 \n",
            " max_pooling3d_39 (MaxPooli  (None, 7, 30, 40, 32)     0         \n",
            " ng3D)                                                           \n",
            "                                                                 \n",
            " dropout_54 (Dropout)        (None, 7, 30, 40, 32)     0         \n",
            "                                                                 \n",
            " conv3d_40 (Conv3D)          (None, 7, 15, 20, 64)     55360     \n",
            "                                                                 \n",
            " max_pooling3d_40 (MaxPooli  (None, 3, 7, 10, 64)      0         \n",
            " ng3D)                                                           \n",
            "                                                                 \n",
            " dropout_55 (Dropout)        (None, 3, 7, 10, 64)      0         \n",
            "                                                                 \n",
            " conv3d_41 (Conv3D)          (None, 3, 4, 5, 128)      221312    \n",
            "                                                                 \n",
            " max_pooling3d_41 (MaxPooli  (None, 1, 2, 2, 128)      0         \n",
            " ng3D)                                                           \n",
            "                                                                 \n",
            " dropout_56 (Dropout)        (None, 1, 2, 2, 128)      0         \n",
            "                                                                 \n",
            " global_average_pooling3d_8  (None, 128)               0         \n",
            "  (GlobalAveragePooling3D)                                       \n",
            "                                                                 \n",
            " dense_30 (Dense)            (None, 128)               16512     \n",
            "                                                                 \n",
            " dropout_57 (Dropout)        (None, 128)               0         \n",
            "                                                                 \n",
            " dense_31 (Dense)            (None, 5)                 645       \n",
            "                                                                 \n",
            "=================================================================\n",
            "Total params: 296453 (1.13 MB)\n",
            "Trainable params: 296453 (1.13 MB)\n",
            "Non-trainable params: 0 (0.00 Byte)\n",
            "_________________________________________________________________\n",
            "None\n"
          ]
        },
        {
          "output_type": "stream",
          "name": "stderr",
          "text": [
            "<ipython-input-69-b5c9ef93ece2>:29: DeprecationWarning: Starting with ImageIO v3 the behavior of this function will switch to that of iio.v3.imread. To keep the current behavior (and make this warning disappear) use `import imageio.v2 as imageio` or call `imageio.v2.imread` directly.\n",
            "  image = imread(source_path+'/'+ t[folder + (batch*batch_size)].strip().split(';')[0]+'/'+imgs[item]).astype(np.float32)\n",
            "<ipython-input-69-b5c9ef93ece2>:54: DeprecationWarning: Starting with ImageIO v3 the behavior of this function will switch to that of iio.v3.imread. To keep the current behavior (and make this warning disappear) use `import imageio.v2 as imageio` or call `imageio.v2.imread` directly.\n",
            "  image = imread(source_path+'/'+ t[folder].strip().split(';')[0]+'/'+imgs[item]).astype(np.float32)\n"
          ]
        },
        {
          "output_type": "stream",
          "name": "stdout",
          "text": [
            "\n",
            "Epoch 1: saving model to model_init_2025-01-0305_13_55.125308/model-00001-1.49916-0.18143-1.58033-0.23000.keras\n",
            "\n",
            "Epoch 2: saving model to model_init_2025-01-0305_13_55.125308/model-00002-1.48011-0.18571-1.52212-0.29000.keras\n",
            "\n",
            "Epoch 3: saving model to model_init_2025-01-0305_13_55.125308/model-00003-1.40639-0.25857-1.46762-0.45000.keras\n",
            "\n",
            "Epoch 4: saving model to model_init_2025-01-0305_13_55.125308/model-00004-1.34377-0.36571-1.33039-0.46000.keras\n",
            "\n",
            "Epoch 5: saving model to model_init_2025-01-0305_13_55.125308/model-00005-1.24534-0.39429-0.55912-0.25000.keras\n",
            "\n",
            "Epoch 6: saving model to model_init_2025-01-0305_13_55.125308/model-00006-1.12654-0.43857-0.58569-0.21000.keras\n",
            "\n",
            "Epoch 7: saving model to model_init_2025-01-0305_13_55.125308/model-00007-1.08862-0.47857-0.49533-0.30000.keras\n",
            "\n",
            "Epoch 8: saving model to model_init_2025-01-0305_13_55.125308/model-00008-0.94518-0.52286-0.37892-0.31000.keras\n",
            "\n",
            "Epoch 9: saving model to model_init_2025-01-0305_13_55.125308/model-00009-0.84771-0.57857-0.29010-0.38000.keras\n",
            "\n",
            "Epoch 10: saving model to model_init_2025-01-0305_13_55.125308/model-00010-0.69162-0.64571-0.30347-0.36000.keras\n",
            "\n",
            "Epoch 11: saving model to model_init_2025-01-0305_13_55.125308/model-00011-0.62833-0.65286-0.24689-0.42000.keras\n",
            "\n",
            "Epoch 12: saving model to model_init_2025-01-0305_13_55.125308/model-00012-0.60435-0.68000-0.28594-0.41000.keras\n",
            "\n",
            "Epoch 13: saving model to model_init_2025-01-0305_13_55.125308/model-00013-0.54554-0.68571-0.28709-0.41000.keras\n",
            "\n",
            "Epoch 14: saving model to model_init_2025-01-0305_13_55.125308/model-00014-0.52440-0.70714-0.24113-0.39000.keras\n",
            "\n",
            "Epoch 15: saving model to model_init_2025-01-0305_13_55.125308/model-00015-0.54893-0.70286-0.19734-0.43000.keras\n",
            "\n",
            "Epoch 16: saving model to model_init_2025-01-0305_13_55.125308/model-00016-0.47398-0.70714-0.22590-0.41000.keras\n",
            "\n",
            "Epoch 17: saving model to model_init_2025-01-0305_13_55.125308/model-00017-0.48092-0.73429-0.27940-0.38000.keras\n",
            "\n",
            "Epoch 18: saving model to model_init_2025-01-0305_13_55.125308/model-00018-0.49654-0.73857-0.22320-0.40000.keras\n",
            "\n",
            "Epoch 18: ReduceLROnPlateau reducing learning rate to 0.0005000000237487257.\n",
            "\n",
            "Epoch 19: saving model to model_init_2025-01-0305_13_55.125308/model-00019-0.45941-0.74286-0.25042-0.40000.keras\n",
            "\n",
            "Epoch 20: saving model to model_init_2025-01-0305_13_55.125308/model-00020-0.46313-0.76000-0.27731-0.38000.keras\n"
          ]
        }
      ]
    },
    {
      "cell_type": "markdown",
      "source": [
        "### Validation accuracy still unstable,but traning accuracy has improved considerably"
      ],
      "metadata": {
        "id": "wgEyq9GVyZoV"
      }
    },
    {
      "cell_type": "markdown",
      "source": [
        "Trying with bigger batch size"
      ],
      "metadata": {
        "id": "-7yV26-wiiQi"
      }
    },
    {
      "cell_type": "code",
      "source": [
        "train_generator = generator(train_path, train_doc, 100)\n",
        "val_generator = generator(val_path, val_doc, 100)"
      ],
      "metadata": {
        "id": "HvSe2BB7hEOD"
      },
      "execution_count": 73,
      "outputs": []
    },
    {
      "cell_type": "code",
      "source": [
        "fitmodel(model)"
      ],
      "metadata": {
        "colab": {
          "base_uri": "https://localhost:8080/"
        },
        "id": "kLHOfn2Bimu7",
        "outputId": "e011910f-aeaa-4dfd-d5b7-6509843aaffd"
      },
      "execution_count": 76,
      "outputs": [
        {
          "output_type": "stream",
          "name": "stdout",
          "text": [
            "Model: \"sequential_18\"\n",
            "_________________________________________________________________\n",
            " Layer (type)                Output Shape              Param #   \n",
            "=================================================================\n",
            " conv3d_42 (Conv3D)          (None, 15, 60, 80, 32)    2624      \n",
            "                                                                 \n",
            " max_pooling3d_42 (MaxPooli  (None, 7, 30, 40, 32)     0         \n",
            " ng3D)                                                           \n",
            "                                                                 \n",
            " dropout_58 (Dropout)        (None, 7, 30, 40, 32)     0         \n",
            "                                                                 \n",
            " conv3d_43 (Conv3D)          (None, 7, 15, 20, 64)     55360     \n",
            "                                                                 \n",
            " max_pooling3d_43 (MaxPooli  (None, 3, 7, 10, 64)      0         \n",
            " ng3D)                                                           \n",
            "                                                                 \n",
            " dropout_59 (Dropout)        (None, 3, 7, 10, 64)      0         \n",
            "                                                                 \n",
            " conv3d_44 (Conv3D)          (None, 3, 4, 5, 128)      221312    \n",
            "                                                                 \n",
            " max_pooling3d_44 (MaxPooli  (None, 1, 2, 2, 128)      0         \n",
            " ng3D)                                                           \n",
            "                                                                 \n",
            " dropout_60 (Dropout)        (None, 1, 2, 2, 128)      0         \n",
            "                                                                 \n",
            " global_average_pooling3d_9  (None, 128)               0         \n",
            "  (GlobalAveragePooling3D)                                       \n",
            "                                                                 \n",
            " dense_32 (Dense)            (None, 128)               16512     \n",
            "                                                                 \n",
            " dropout_61 (Dropout)        (None, 128)               0         \n",
            "                                                                 \n",
            " dense_33 (Dense)            (None, 5)                 645       \n",
            "                                                                 \n",
            "=================================================================\n",
            "Total params: 296453 (1.13 MB)\n",
            "Trainable params: 296453 (1.13 MB)\n",
            "Non-trainable params: 0 (0.00 Byte)\n",
            "_________________________________________________________________\n",
            "None\n"
          ]
        },
        {
          "output_type": "stream",
          "name": "stderr",
          "text": [
            "<ipython-input-69-b5c9ef93ece2>:29: DeprecationWarning: Starting with ImageIO v3 the behavior of this function will switch to that of iio.v3.imread. To keep the current behavior (and make this warning disappear) use `import imageio.v2 as imageio` or call `imageio.v2.imread` directly.\n",
            "  image = imread(source_path+'/'+ t[folder + (batch*batch_size)].strip().split(';')[0]+'/'+imgs[item]).astype(np.float32)\n",
            "<ipython-input-69-b5c9ef93ece2>:54: DeprecationWarning: Starting with ImageIO v3 the behavior of this function will switch to that of iio.v3.imread. To keep the current behavior (and make this warning disappear) use `import imageio.v2 as imageio` or call `imageio.v2.imread` directly.\n",
            "  image = imread(source_path+'/'+ t[folder].strip().split(';')[0]+'/'+imgs[item]).astype(np.float32)\n"
          ]
        },
        {
          "output_type": "stream",
          "name": "stdout",
          "text": [
            "\n",
            "Epoch 1: saving model to model_init_2025-01-0305_13_55.125308/model-00001-1.50548-0.21000-1.59664-0.23000.keras\n",
            "\n",
            "Epoch 2: saving model to model_init_2025-01-0305_13_55.125308/model-00002-1.48817-0.18429-1.57141-0.23000.keras\n",
            "\n",
            "Epoch 3: saving model to model_init_2025-01-0305_13_55.125308/model-00003-1.44650-0.18143-1.46805-0.29000.keras\n",
            "\n",
            "Epoch 4: saving model to model_init_2025-01-0305_13_55.125308/model-00004-1.38422-0.28857-0.72433-0.21000.keras\n",
            "\n",
            "Epoch 5: saving model to model_init_2025-01-0305_13_55.125308/model-00005-1.28049-0.41714-0.54752-0.32000.keras\n",
            "\n",
            "Epoch 6: saving model to model_init_2025-01-0305_13_55.125308/model-00006-1.16049-0.44143-0.61000-0.20000.keras\n",
            "\n",
            "Epoch 7: saving model to model_init_2025-01-0305_13_55.125308/model-00007-1.01668-0.50000-0.48983-0.29000.keras\n",
            "\n",
            "Epoch 8: saving model to model_init_2025-01-0305_13_55.125308/model-00008-0.96229-0.52286-0.39776-0.30000.keras\n",
            "\n",
            "Epoch 9: saving model to model_init_2025-01-0305_13_55.125308/model-00009-0.81257-0.60429-0.62799-0.21000.keras\n",
            "\n",
            "Epoch 10: saving model to model_init_2025-01-0305_13_55.125308/model-00010-0.82131-0.57714-0.31348-0.40000.keras\n",
            "\n",
            "Epoch 11: saving model to model_init_2025-01-0305_13_55.125308/model-00011-0.69250-0.62286-0.29479-0.37000.keras\n",
            "\n",
            "Epoch 12: saving model to model_init_2025-01-0305_13_55.125308/model-00012-0.61168-0.66143-0.25727-0.41000.keras\n",
            "\n",
            "Epoch 13: saving model to model_init_2025-01-0305_13_55.125308/model-00013-0.58829-0.67571-0.31337-0.39000.keras\n",
            "\n",
            "Epoch 14: saving model to model_init_2025-01-0305_13_55.125308/model-00014-0.51269-0.71714-0.17792-0.45000.keras\n",
            "\n",
            "Epoch 15: saving model to model_init_2025-01-0305_13_55.125308/model-00015-0.51859-0.71143-0.24133-0.40000.keras\n",
            "\n",
            "Epoch 16: saving model to model_init_2025-01-0305_13_55.125308/model-00016-0.44725-0.74714-0.19448-0.44000.keras\n",
            "\n",
            "Epoch 17: saving model to model_init_2025-01-0305_13_55.125308/model-00017-0.44724-0.76857-0.20210-0.40000.keras\n",
            "\n",
            "Epoch 17: ReduceLROnPlateau reducing learning rate to 0.0005000000237487257.\n",
            "\n",
            "Epoch 18: saving model to model_init_2025-01-0305_13_55.125308/model-00018-0.41960-0.78286-0.23702-0.40000.keras\n",
            "\n",
            "Epoch 19: saving model to model_init_2025-01-0305_13_55.125308/model-00019-0.45796-0.76714-0.19981-0.40000.keras\n",
            "\n",
            "Epoch 20: saving model to model_init_2025-01-0305_13_55.125308/model-00020-0.40408-0.78857-0.22801-0.38000.keras\n",
            "\n",
            "Epoch 20: ReduceLROnPlateau reducing learning rate to 0.0002500000118743628.\n"
          ]
        }
      ]
    },
    {
      "cell_type": "markdown",
      "source": [
        "Trying with smaller batch size"
      ],
      "metadata": {
        "id": "Jl7jY6k_Kr5v"
      }
    },
    {
      "cell_type": "code",
      "source": [
        "train_generator = generator(train_path, train_doc, 10)\n",
        "val_generator = generator(val_path, val_doc, 10)"
      ],
      "metadata": {
        "id": "Hqc-s9PIKvRl"
      },
      "execution_count": 77,
      "outputs": []
    },
    {
      "cell_type": "code",
      "source": [
        "fitmodel(model)"
      ],
      "metadata": {
        "id": "mXu_o6xWLBUt",
        "outputId": "8982ab43-877f-4aef-e492-d1cd96b2761e",
        "colab": {
          "base_uri": "https://localhost:8080/"
        }
      },
      "execution_count": 78,
      "outputs": [
        {
          "output_type": "stream",
          "name": "stdout",
          "text": [
            "Model: \"sequential_18\"\n",
            "_________________________________________________________________\n",
            " Layer (type)                Output Shape              Param #   \n",
            "=================================================================\n",
            " conv3d_42 (Conv3D)          (None, 15, 60, 80, 32)    2624      \n",
            "                                                                 \n",
            " max_pooling3d_42 (MaxPooli  (None, 7, 30, 40, 32)     0         \n",
            " ng3D)                                                           \n",
            "                                                                 \n",
            " dropout_58 (Dropout)        (None, 7, 30, 40, 32)     0         \n",
            "                                                                 \n",
            " conv3d_43 (Conv3D)          (None, 7, 15, 20, 64)     55360     \n",
            "                                                                 \n",
            " max_pooling3d_43 (MaxPooli  (None, 3, 7, 10, 64)      0         \n",
            " ng3D)                                                           \n",
            "                                                                 \n",
            " dropout_59 (Dropout)        (None, 3, 7, 10, 64)      0         \n",
            "                                                                 \n",
            " conv3d_44 (Conv3D)          (None, 3, 4, 5, 128)      221312    \n",
            "                                                                 \n",
            " max_pooling3d_44 (MaxPooli  (None, 1, 2, 2, 128)      0         \n",
            " ng3D)                                                           \n",
            "                                                                 \n",
            " dropout_60 (Dropout)        (None, 1, 2, 2, 128)      0         \n",
            "                                                                 \n",
            " global_average_pooling3d_9  (None, 128)               0         \n",
            "  (GlobalAveragePooling3D)                                       \n",
            "                                                                 \n",
            " dense_32 (Dense)            (None, 128)               16512     \n",
            "                                                                 \n",
            " dropout_61 (Dropout)        (None, 128)               0         \n",
            "                                                                 \n",
            " dense_33 (Dense)            (None, 5)                 645       \n",
            "                                                                 \n",
            "=================================================================\n",
            "Total params: 296453 (1.13 MB)\n",
            "Trainable params: 296453 (1.13 MB)\n",
            "Non-trainable params: 0 (0.00 Byte)\n",
            "_________________________________________________________________\n",
            "None\n"
          ]
        },
        {
          "output_type": "stream",
          "name": "stderr",
          "text": [
            "<ipython-input-69-b5c9ef93ece2>:29: DeprecationWarning: Starting with ImageIO v3 the behavior of this function will switch to that of iio.v3.imread. To keep the current behavior (and make this warning disappear) use `import imageio.v2 as imageio` or call `imageio.v2.imread` directly.\n",
            "  image = imread(source_path+'/'+ t[folder + (batch*batch_size)].strip().split(';')[0]+'/'+imgs[item]).astype(np.float32)\n",
            "<ipython-input-69-b5c9ef93ece2>:54: DeprecationWarning: Starting with ImageIO v3 the behavior of this function will switch to that of iio.v3.imread. To keep the current behavior (and make this warning disappear) use `import imageio.v2 as imageio` or call `imageio.v2.imread` directly.\n",
            "  image = imread(source_path+'/'+ t[folder].strip().split(';')[0]+'/'+imgs[item]).astype(np.float32)\n"
          ]
        },
        {
          "output_type": "stream",
          "name": "stdout",
          "text": [
            "\n",
            "Epoch 1: saving model to model_init_2025-01-0305_13_55.125308/model-00001-0.56404-0.74714-0.45100-0.79000.keras\n",
            "\n",
            "Epoch 2: saving model to model_init_2025-01-0305_13_55.125308/model-00002-0.41099-0.78429-0.42943-0.84000.keras\n",
            "\n",
            "Epoch 3: saving model to model_init_2025-01-0305_13_55.125308/model-00003-0.38775-0.79714-0.38373-0.84000.keras\n",
            "\n",
            "Epoch 4: saving model to model_init_2025-01-0305_13_55.125308/model-00004-0.47039-0.78000-0.40788-0.84000.keras\n",
            "\n",
            "Epoch 5: saving model to model_init_2025-01-0305_13_55.125308/model-00005-0.40707-0.79857-0.40356-0.84000.keras\n",
            "\n",
            "Epoch 6: saving model to model_init_2025-01-0305_13_55.125308/model-00006-0.37704-0.80714-0.36470-0.87000.keras\n",
            "\n",
            "Epoch 7: saving model to model_init_2025-01-0305_13_55.125308/model-00007-0.44315-0.79143-0.37410-0.34000.keras\n",
            "\n",
            "Epoch 8: saving model to model_init_2025-01-0305_13_55.125308/model-00008-0.66735-0.75571-0.20225-0.45000.keras\n",
            "\n",
            "Epoch 9: saving model to model_init_2025-01-0305_13_55.125308/model-00009-0.58204-0.76714-0.18529-0.46000.keras\n",
            "\n",
            "Epoch 10: saving model to model_init_2025-01-0305_13_55.125308/model-00010-0.63603-0.79000-0.22003-0.44000.keras\n",
            "\n",
            "Epoch 11: saving model to model_init_2025-01-0305_13_55.125308/model-00011-0.68850-0.77857-0.28997-0.42000.keras\n",
            "\n",
            "Epoch 12: saving model to model_init_2025-01-0305_13_55.125308/model-00012-0.79400-0.72429-0.26786-0.38000.keras\n",
            "\n",
            "Epoch 12: ReduceLROnPlateau reducing learning rate to 0.0005000000237487257.\n",
            "\n",
            "Epoch 13: saving model to model_init_2025-01-0305_13_55.125308/model-00013-1.06169-0.75714-0.30817-0.85000.keras\n",
            "\n",
            "Epoch 14: saving model to model_init_2025-01-0305_13_55.125308/model-00014-0.82621-0.73714-0.25005-0.91000.keras\n",
            "\n",
            "Epoch 15: saving model to model_init_2025-01-0305_13_55.125308/model-00015-0.44793-0.79143-0.14145-0.96000.keras\n",
            "\n",
            "Epoch 16: saving model to model_init_2025-01-0305_13_55.125308/model-00016-1.06841-0.78571-0.24881-0.90000.keras\n",
            "\n",
            "Epoch 17: saving model to model_init_2025-01-0305_13_55.125308/model-00017-0.77627-0.76286-0.22183-0.41000.keras\n",
            "\n",
            "Epoch 18: saving model to model_init_2025-01-0305_13_55.125308/model-00018-0.71205-0.77429-0.30935-0.88000.keras\n",
            "\n",
            "Epoch 18: ReduceLROnPlateau reducing learning rate to 0.0002500000118743628.\n",
            "\n",
            "Epoch 19: saving model to model_init_2025-01-0305_13_55.125308/model-00019-0.73556-0.80429-0.15780-0.91000.keras\n",
            "\n",
            "Epoch 20: saving model to model_init_2025-01-0305_13_55.125308/model-00020-0.90346-0.78286-0.33388-0.88000.keras\n"
          ]
        }
      ]
    },
    {
      "cell_type": "markdown",
      "source": [
        "### **Model 4**"
      ],
      "metadata": {
        "id": "cGcrORjz2Jui"
      }
    },
    {
      "cell_type": "code",
      "source": [
        "# img_idx = [i for i in range(0,30,2)]\n",
        "img_idx = [i for i in range(0,30,1)]\n",
        "len(img_idx)"
      ],
      "metadata": {
        "colab": {
          "base_uri": "https://localhost:8080/"
        },
        "id": "BWpjn4H-2Gx2",
        "outputId": "f21e4e47-f29b-4d67-c478-169d0b90f4dc"
      },
      "execution_count": 58,
      "outputs": [
        {
          "output_type": "execute_result",
          "data": {
            "text/plain": [
              "30"
            ]
          },
          "metadata": {},
          "execution_count": 58
        }
      ]
    },
    {
      "cell_type": "code",
      "source": [
        "model = Sequential()\n",
        "\n",
        "model.add(Conv3D(32, (3,3,3), padding='same', activation='relu', strides=(1, 2, 2), input_shape=(len(img_idx),120, 160, 3)))\n",
        "model.add(MaxPooling3D(pool_size=(2, 2, 2)))\n",
        "model.add(Dropout(0.25))\n",
        "\n",
        "model.add(Conv3D(64, (3,3,3), padding='same', activation='relu', strides=(1, 2, 2)))\n",
        "model.add(MaxPooling3D(pool_size=(2, 2, 2)))\n",
        "model.add(Dropout(0.25))\n",
        "\n",
        "model.add(Conv3D(128, (3,3,3), padding='same', activation='relu', strides=(1, 2, 2)))\n",
        "model.add(MaxPooling3D(pool_size=(2, 2, 2)))\n",
        "model.add(Dropout(0.25))\n",
        "\n",
        "# model.add(Conv3D(256, (3,3,3), padding='same', activation='relu'))\n",
        "# model.add(MaxPooling3D(pool_size=(2, 2, 2)))\n",
        "# model.add(Dropout(0.25))\n",
        "\n",
        "# model.add(Flatten())\n",
        "model.add(GlobalAveragePooling3D())\n",
        "model.add(Dense(256, activation='relu'))\n",
        "model.add(Dropout(0.5))\n",
        "model.add(Dense(5, activation='softmax'))"
      ],
      "metadata": {
        "id": "huILe5Gq145V"
      },
      "execution_count": 63,
      "outputs": []
    },
    {
      "cell_type": "code",
      "source": [
        "fitmodel(model)"
      ],
      "metadata": {
        "colab": {
          "base_uri": "https://localhost:8080/"
        },
        "id": "X8Pshjh12_ae",
        "outputId": "0a2dae30-23e5-4fd1-d47a-4ed0f9f32468"
      },
      "execution_count": 65,
      "outputs": [
        {
          "output_type": "stream",
          "name": "stdout",
          "text": [
            "Model: \"sequential_15\"\n",
            "_________________________________________________________________\n",
            " Layer (type)                Output Shape              Param #   \n",
            "=================================================================\n",
            " conv3d_33 (Conv3D)          (None, 30, 60, 80, 32)    2624      \n",
            "                                                                 \n",
            " max_pooling3d_33 (MaxPooli  (None, 15, 30, 40, 32)    0         \n",
            " ng3D)                                                           \n",
            "                                                                 \n",
            " dropout_46 (Dropout)        (None, 15, 30, 40, 32)    0         \n",
            "                                                                 \n",
            " conv3d_34 (Conv3D)          (None, 15, 15, 20, 64)    55360     \n",
            "                                                                 \n",
            " max_pooling3d_34 (MaxPooli  (None, 7, 7, 10, 64)      0         \n",
            " ng3D)                                                           \n",
            "                                                                 \n",
            " dropout_47 (Dropout)        (None, 7, 7, 10, 64)      0         \n",
            "                                                                 \n",
            " conv3d_35 (Conv3D)          (None, 7, 4, 5, 128)      221312    \n",
            "                                                                 \n",
            " max_pooling3d_35 (MaxPooli  (None, 3, 2, 2, 128)      0         \n",
            " ng3D)                                                           \n",
            "                                                                 \n",
            " dropout_48 (Dropout)        (None, 3, 2, 2, 128)      0         \n",
            "                                                                 \n",
            " global_average_pooling3d_6  (None, 128)               0         \n",
            "  (GlobalAveragePooling3D)                                       \n",
            "                                                                 \n",
            " dense_26 (Dense)            (None, 256)               33024     \n",
            "                                                                 \n",
            " dropout_49 (Dropout)        (None, 256)               0         \n",
            "                                                                 \n",
            " dense_27 (Dense)            (None, 5)                 1285      \n",
            "                                                                 \n",
            "=================================================================\n",
            "Total params: 313605 (1.20 MB)\n",
            "Trainable params: 313605 (1.20 MB)\n",
            "Non-trainable params: 0 (0.00 Byte)\n",
            "_________________________________________________________________\n",
            "None\n"
          ]
        },
        {
          "output_type": "stream",
          "name": "stderr",
          "text": [
            "<ipython-input-60-c0c78d1fc080>:29: DeprecationWarning: Starting with ImageIO v3 the behavior of this function will switch to that of iio.v3.imread. To keep the current behavior (and make this warning disappear) use `import imageio.v2 as imageio` or call `imageio.v2.imread` directly.\n",
            "  image = imread(source_path+'/'+ t[folder + (batch*batch_size)].strip().split(';')[0]+'/'+imgs[item]).astype(np.float32)\n",
            "<ipython-input-60-c0c78d1fc080>:54: DeprecationWarning: Starting with ImageIO v3 the behavior of this function will switch to that of iio.v3.imread. To keep the current behavior (and make this warning disappear) use `import imageio.v2 as imageio` or call `imageio.v2.imread` directly.\n",
            "  image = imread(source_path+'/'+ t[folder].strip().split(';')[0]+'/'+imgs[item]).astype(np.float32)\n"
          ]
        },
        {
          "output_type": "stream",
          "name": "stdout",
          "text": [
            "\n",
            "Epoch 1: saving model to model_init_2025-01-0305_13_55.125308/model-00001-1.50993-0.17429-1.60793-0.22000.keras\n",
            "\n",
            "Epoch 2: saving model to model_init_2025-01-0305_13_55.125308/model-00002-1.49235-0.20571-1.59231-0.23000.keras\n",
            "\n",
            "Epoch 3: saving model to model_init_2025-01-0305_13_55.125308/model-00003-1.47671-0.19000-1.52527-0.23000.keras\n",
            "\n",
            "Epoch 4: saving model to model_init_2025-01-0305_13_55.125308/model-00004-1.39972-0.23000-1.43992-0.43000.keras\n",
            "\n",
            "Epoch 5: saving model to model_init_2025-01-0305_13_55.125308/model-00005-1.32519-0.32714-1.33279-0.44000.keras\n",
            "\n",
            "Epoch 6: saving model to model_init_2025-01-0305_13_55.125308/model-00006-1.29350-0.35714-1.26592-0.47000.keras\n",
            "\n",
            "Epoch 7: saving model to model_init_2025-01-0305_13_55.125308/model-00007-1.22342-0.39000-0.60847-0.23000.keras\n",
            "\n",
            "Epoch 8: saving model to model_init_2025-01-0305_13_55.125308/model-00008-1.18407-0.39000-0.58936-0.22000.keras\n",
            "\n",
            "Epoch 9: saving model to model_init_2025-01-0305_13_55.125308/model-00009-1.13674-0.39286-0.53889-0.25000.keras\n",
            "\n",
            "Epoch 10: saving model to model_init_2025-01-0305_13_55.125308/model-00010-1.03338-0.47000-0.49887-0.25000.keras\n",
            "\n",
            "Epoch 11: saving model to model_init_2025-01-0305_13_55.125308/model-00011-1.00408-0.49429-0.46336-0.34000.keras\n",
            "\n",
            "Epoch 12: saving model to model_init_2025-01-0305_13_55.125308/model-00012-1.10242-0.50571-0.49478-0.80000.keras\n",
            "\n",
            "Epoch 13: saving model to model_init_2025-01-0305_13_55.125308/model-00013-1.00180-0.46571-0.43292-0.35000.keras\n",
            "\n",
            "Epoch 14: saving model to model_init_2025-01-0305_13_55.125308/model-00014-0.92714-0.57143-0.45598-0.28000.keras\n",
            "\n",
            "Epoch 15: saving model to model_init_2025-01-0305_13_55.125308/model-00015-0.88553-0.59857-0.41926-0.85000.keras\n",
            "\n",
            "Epoch 16: saving model to model_init_2025-01-0305_13_55.125308/model-00016-0.92284-0.56429-0.45985-0.32000.keras\n",
            "\n",
            "Epoch 17: saving model to model_init_2025-01-0305_13_55.125308/model-00017-1.02412-0.52571-0.39415-0.85000.keras\n",
            "\n",
            "Epoch 18: saving model to model_init_2025-01-0305_13_55.125308/model-00018-1.12698-0.50286-0.55859-0.28000.keras\n",
            "\n",
            "Epoch 19: saving model to model_init_2025-01-0305_13_55.125308/model-00019-1.41646-0.49714-0.43291-0.78000.keras\n",
            "\n",
            "Epoch 20: saving model to model_init_2025-01-0305_13_55.125308/model-00020-1.48490-0.43429-0.52515-0.74000.keras\n",
            "\n",
            "Epoch 20: ReduceLROnPlateau reducing learning rate to 0.0005000000237487257.\n"
          ]
        }
      ]
    },
    {
      "cell_type": "markdown",
      "source": [
        "### Validation accuracy still unstable,but traning accuracy has also worserned"
      ],
      "metadata": {
        "id": "HwqFo1gELAaz"
      }
    },
    {
      "cell_type": "code",
      "source": [],
      "metadata": {
        "id": "Kav4MBtPLQsV"
      },
      "execution_count": null,
      "outputs": []
    }
  ],
  "metadata": {
    "kernelspec": {
      "display_name": "Python 3",
      "name": "python3"
    },
    "language_info": {
      "codemirror_mode": {
        "name": "ipython",
        "version": 3
      },
      "file_extension": ".py",
      "mimetype": "text/x-python",
      "name": "python",
      "nbconvert_exporter": "python",
      "pygments_lexer": "ipython3",
      "version": "3.11.7"
    },
    "colab": {
      "provenance": [],
      "machine_shape": "hm",
      "gpuType": "V28"
    },
    "accelerator": "TPU"
  },
  "nbformat": 4,
  "nbformat_minor": 0
}