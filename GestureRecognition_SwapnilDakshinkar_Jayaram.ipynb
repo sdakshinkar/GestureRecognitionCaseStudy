{
  "cells": [
    {
      "cell_type": "markdown",
      "metadata": {
        "id": "pSDh1VZA1Mxd"
      },
      "source": [
        "# Gesture Recognition\n",
        "In this group project, you are going to build a 3D Conv model that will be able to predict the 5 gestures correctly. Please import the following libraries to get started."
      ]
    },
    {
      "cell_type": "code",
      "execution_count": 1,
      "metadata": {
        "colab": {
          "base_uri": "https://localhost:8080/"
        },
        "id": "L9jRPqFn1Mxf",
        "outputId": "78b71874-3dd5-4ba2-9d4d-93c63d7f3893"
      },
      "outputs": [
        {
          "output_type": "stream",
          "name": "stdout",
          "text": [
            "Mounted at /content/drive/\n"
          ]
        }
      ],
      "source": [
        "from google.colab import drive\n",
        "drive.mount('/content/drive/')"
      ]
    },
    {
      "cell_type": "code",
      "source": [
        "import os\n",
        "\n",
        "def count_files_and_folders(directory):\n",
        "    num_files = 0\n",
        "    num_folders = 0\n",
        "\n",
        "    for root, dirs, files in os.walk(directory):\n",
        "        num_folders += len(dirs)\n",
        "        num_files += len(files)\n",
        "\n",
        "    return num_files, num_folders\n",
        "# /content/drive/My Drive/AI/Upgrad/Melanoma_Assignment_CNN/CNN_assignment/Skin cancer ISIC The International Skin Imaging Collaboration/Train\n",
        "# Example usage\n",
        "directory = '/content/drive/My Drive/AI/Upgrad/Gesture_Recognition_CaseStudy/Project_data/Project_data/train'  # Replace with your directory path\n",
        "files, folders = count_files_and_folders(directory)\n",
        "print(f\"Number of files: {files}\")\n",
        "print(f\"Number of folders: {folders}\")\n",
        "\n",
        "directory = '/content/drive/My Drive/AI/Upgrad/Gesture_Recognition_CaseStudy/Project_data/Project_data/val'  # Replace with your directory path\n",
        "files, folders = count_files_and_folders(directory)\n",
        "print(f\"Number of files: {files}\")\n",
        "print(f\"Number of folders: {folders}\")"
      ],
      "metadata": {
        "colab": {
          "base_uri": "https://localhost:8080/"
        },
        "id": "hffLUY6KsHu0",
        "outputId": "fcb109d4-f25b-4f3a-cde0-9af51d5ded4a"
      },
      "execution_count": 2,
      "outputs": [
        {
          "output_type": "stream",
          "name": "stdout",
          "text": [
            "Number of files: 19890\n",
            "Number of folders: 663\n",
            "Number of files: 3000\n",
            "Number of folders: 100\n"
          ]
        }
      ]
    },
    {
      "cell_type": "code",
      "execution_count": 3,
      "metadata": {
        "id": "KlL5B4UW1Mxf"
      },
      "outputs": [],
      "source": [
        "import numpy as np\n",
        "import os\n",
        "\n",
        "# from scipy.misc import imread, imresize\n",
        "from imageio import imread\n",
        "from PIL import Image\n",
        "# Resize using PIL.Image.resize\n",
        "# image = Image.fromarray(image)  # Convert to PIL Image\n",
        "# image = image.resize((100, 100))  # Resize to (100, 100)\n",
        "# image = np.array(image)  # Convert back to NumPy array\n",
        "\n",
        "import datetime\n",
        "import os"
      ]
    },
    {
      "cell_type": "code",
      "source": [
        "#!pip install --upgrade tensorflow"
      ],
      "metadata": {
        "id": "OFV79ZhV4Aef"
      },
      "execution_count": 4,
      "outputs": []
    },
    {
      "cell_type": "markdown",
      "metadata": {
        "id": "TXHMtEJs1Mxg"
      },
      "source": [
        "We set the random seed so that the results don't vary drastically."
      ]
    },
    {
      "cell_type": "code",
      "execution_count": 4,
      "metadata": {
        "id": "0OLjsaxU1Mxg"
      },
      "outputs": [],
      "source": [
        "np.random.seed(30)\n",
        "import random as rn\n",
        "rn.seed(30)\n",
        "from keras import backend as K\n",
        "import tensorflow as tf\n",
        "\n",
        "#tf.set_random_seed(30)\n",
        "tf.random.set_seed(30)"
      ]
    },
    {
      "cell_type": "markdown",
      "metadata": {
        "id": "u2h37aCt1Mxg"
      },
      "source": [
        "In this block, you read the folder names for training and validation. You also set the `batch_size` here. Note that you set the batch size in such a way that you are able to use the GPU in full capacity. You keep increasing the batch size until the machine throws an error."
      ]
    },
    {
      "cell_type": "code",
      "execution_count": 14,
      "metadata": {
        "id": "c1F1p3B51Mxg"
      },
      "outputs": [],
      "source": [
        "train_doc = np.random.permutation(open('/content/drive/My Drive/AI/Upgrad/Gesture_Recognition_CaseStudy/Project_data/Project_data/train.csv').readlines())\n",
        "val_doc = np.random.permutation(open('/content/drive/My Drive/AI/Upgrad/Gesture_Recognition_CaseStudy/Project_data/Project_data/val.csv').readlines())\n",
        "\n",
        "#experiment with the batch size\n",
        "batch_size = 200\n"
      ]
    },
    {
      "cell_type": "code",
      "source": [
        "type(train_doc)"
      ],
      "metadata": {
        "colab": {
          "base_uri": "https://localhost:8080/"
        },
        "id": "_oh-8tpCE49_",
        "outputId": "72d89a69-9003-4e7a-b654-1f073b3f010c"
      },
      "execution_count": 11,
      "outputs": [
        {
          "output_type": "execute_result",
          "data": {
            "text/plain": [
              "numpy.ndarray"
            ]
          },
          "metadata": {},
          "execution_count": 11
        }
      ]
    },
    {
      "cell_type": "markdown",
      "metadata": {
        "id": "OzYXkc4w1Mxg"
      },
      "source": [
        "## Generator\n",
        "This is one of the most important part of the code. The overall structure of the generator has been given. In the generator, you are going to preprocess the images as you have images of 2 different dimensions as well as create a batch of video frames. You have to experiment with `img_idx`, `y`,`z` and normalization such that you get high accuracy."
      ]
    },
    {
      "cell_type": "code",
      "execution_count": 39,
      "metadata": {
        "id": "Ux-Rcsm21Mxg"
      },
      "outputs": [],
      "source": [
        "#source_path = '/content/drive/My Drive/AI/Upgrad/Gesture_Recognition_CaseStudy/Project_data/Project_data'\n",
        "#folder_list = train_doc,val_doc above\n",
        "#batch_size = batch_size above\n",
        "def generator(source_path, folder_list, batch_size):\n",
        "    print( 'Source path = ', source_path, '; batch size =', batch_size)\n",
        "    img_idx = [i for i in range(0,30,2)]\n",
        "    while True:\n",
        "        # print('Here 1')\n",
        "        # print(folder_list)\n",
        "\n",
        "        t = np.random.permutation(folder_list) #temp comment\n",
        "\n",
        "        # calculate the number of batches\n",
        "        num_batches = int(len(folder_list)/batch_size)\n",
        "\n",
        "        for batch in range(num_batches): # we iterate over the number of batches\n",
        "            print('assume count0')\n",
        "            batch_data = np.zeros((batch_size,len(img_idx),120,160,3)) # x is the number of images you use for each video, (y,z) is the final size of the input images and 3 is the number of channels RGB\n",
        "            batch_labels = np.zeros((batch_size,5)) # batch_labels is the one hot representation of the output\n",
        "            for folder in range(batch_size): # iterate over the batch_size\n",
        "                print(t[folder])\n",
        "                imgs = os.listdir(source_path+'/'+ t[folder + (batch*batch_size)].split(';')[0]) # read all the images in the folder\n",
        "                for idx,item in enumerate(img_idx): #  Iterate iver the frames/images of a folder to read them in\n",
        "                    image = imread(source_path+'/'+ t[folder + (batch*batch_size)].strip().split(';')[0]+'/'+imgs[item]).astype(np.float32)\n",
        "\n",
        "                    #crop the images and resize them. Note that the images are of 2 different shape\n",
        "                    #and the conv3D will throw error if the inputs in a batch have different shapes\n",
        "                    image = Image.fromarray(image.astype(np.uint8))  # Convert to PIL Image\n",
        "                    image = image.resize((120, 160))  # Resize to (100, 100)\n",
        "                    image = np.array(image)  # Convert back to NumPy array\n",
        "\n",
        "\n",
        "                    batch_data[folder,idx,:,:,0] = image[:,:,0]/255.0\n",
        "                    batch_data[folder,idx,:,:,1] = image[:,:,1]/255.0\n",
        "                    batch_data[folder,idx,:,:,2] = image[:,:,2]/255.0\n",
        "\n",
        "                batch_labels[folder, int(t[folder + (batch*batch_size)].strip().split(';')[2])] = 1\n",
        "            yield batch_data, batch_labels #you yield the batch_data and the batch_labels, remember what does yield do\n",
        "\n",
        "\n",
        "        # write the code for the remaining data points which are left after full batches\n",
        "        remaining_data_points = len(folder_list) - batch_size*num_batches\n",
        "        batch_data = np.zeros((batch_size,len(img_idx),120,160,3)) # x is the number of images you use for each video, (y,z) is the final size of the input images and 3 is the number of channels RGB\n",
        "        batch_labels = np.zeros((batch_size,5)) # batch_labels is the one hot representation of the output\n",
        "        for folder in range(len(folder_list)-remaining_data_points,len(folder_list)): # iterate over the batch_size\n",
        "            counter = 0\n",
        "            print('remaining: ',t[folder])\n",
        "            imgs = os.listdir(source_path+'/'+ t[folder].split(';')[0]) # read all the images in the folder\n",
        "            for idx,item in enumerate(img_idx): #  Iterate iver the frames/images of a folder to read them in\n",
        "                image = imread(source_path+'/'+ t[folder].strip().split(';')[0]+'/'+imgs[item]).astype(np.float32)\n",
        "\n",
        "                #crop the images and resize them. Note that the images are of 2 different shape\n",
        "                #and the conv3D will throw error if the inputs in a batch have different shapes\n",
        "                image = Image.fromarray(image.astype(np.uint8))  # Convert to PIL Image\n",
        "                image = image.resize((120, 160))  # Resize to (100, 100)\n",
        "                image = np.array(image)  # Convert back to NumPy array\n",
        "\n",
        "\n",
        "                batch_data[counter,idx,:,:,0] = image[:,:,0]/255.0\n",
        "                batch_data[counter,idx,:,:,1] = image[:,:,2]/255.0\n",
        "                batch_data[counter,idx,:,:,2] = image[:,:,3]/255.0\n",
        "\n",
        "            batch_labels[counter, int(t[counter].strip().split(';')[2])] = 1\n",
        "            counter += 1\n",
        "        yield batch_data, batch_labels #you yield the batch_data and the batch_labels, remember what does yield do\n",
        "\n",
        "\n",
        "\n"
      ]
    },
    {
      "cell_type": "code",
      "source": [
        "# train_doc2 = open('/content/drive/My Drive/AI/Upgrad/Gesture_Recognition_CaseStudy/Project_data/temp/train.csv').readlines()\n",
        "# val_doc2 = open('/content/drive/My Drive/AI/Upgrad/Gesture_Recognition_CaseStudy/Project_data/temp/val.csv').readlines()"
      ],
      "metadata": {
        "id": "lqR4darmFXLO"
      },
      "execution_count": 30,
      "outputs": []
    },
    {
      "cell_type": "code",
      "source": [
        "# source_path = '/content/drive/My Drive/AI/Upgrad/Gesture_Recognition_CaseStudy/Project_data/temp/train'\n",
        "# folder_list = train_doc2\n",
        "# batch_size = 4\n",
        "# generator(source_path, folder_list, batch_size)"
      ],
      "metadata": {
        "colab": {
          "base_uri": "https://localhost:8080/",
          "height": 1000
        },
        "id": "K0v0N8lhVlyh",
        "outputId": "ae7ee8df-041b-422d-df7b-66ab8f6b9366"
      },
      "execution_count": 40,
      "outputs": [
        {
          "output_type": "stream",
          "name": "stdout",
          "text": [
            "Source path =  /content/drive/My Drive/AI/Upgrad/Gesture_Recognition_CaseStudy/Project_data/temp/train ; batch size = 4\n",
            "remaining:  WIN_20180907_15_39_51_Pro_Stop Gesture_new;Left_Swipe_new;0\n",
            "\n"
          ]
        },
        {
          "output_type": "stream",
          "name": "stderr",
          "text": [
            "<ipython-input-39-0172fd974cc0>:54: DeprecationWarning: Starting with ImageIO v3 the behavior of this function will switch to that of iio.v3.imread. To keep the current behavior (and make this warning disappear) use `import imageio.v2 as imageio` or call `imageio.v2.imread` directly.\n",
            "  image = imread(source_path+'/'+ t[folder].strip().split(';')[0]+'/'+imgs[item]).astype(np.float32)\n"
          ]
        },
        {
          "output_type": "stream",
          "name": "stdout",
          "text": [
            "remaining:  WIN_20180907_15_39_54_Pro_Thumbs Up_new;Left_Swipe_new;0\n",
            "\n",
            "remaining:  WIN_20180907_15_39_51_Pro_Stop Gesture_new;Left_Swipe_new;0\n",
            "\n",
            "remaining:  WIN_20180907_15_39_54_Pro_Thumbs Up_new;Left_Swipe_new;0\n",
            "\n",
            "remaining:  WIN_20180907_15_39_51_Pro_Stop Gesture_new;Left_Swipe_new;0\n",
            "\n",
            "remaining:  WIN_20180907_15_39_54_Pro_Thumbs Up_new;Left_Swipe_new;0\n",
            "\n",
            "remaining:  WIN_20180907_15_39_51_Pro_Stop Gesture_new;Left_Swipe_new;0\n",
            "\n",
            "remaining:  WIN_20180907_15_39_54_Pro_Thumbs Up_new;Left_Swipe_new;0\n",
            "\n",
            "remaining:  WIN_20180907_15_39_51_Pro_Stop Gesture_new;Left_Swipe_new;0\n",
            "\n",
            "remaining:  WIN_20180907_15_39_54_Pro_Thumbs Up_new;Left_Swipe_new;0\n",
            "\n",
            "remaining:  WIN_20180907_15_39_51_Pro_Stop Gesture_new;Left_Swipe_new;0\n",
            "\n",
            "remaining:  WIN_20180907_15_39_54_Pro_Thumbs Up_new;Left_Swipe_new;0\n",
            "\n",
            "remaining:  WIN_20180907_15_39_51_Pro_Stop Gesture_new;Left_Swipe_new;0\n",
            "\n",
            "remaining:  WIN_20180907_15_39_54_Pro_Thumbs Up_new;Left_Swipe_new;0\n",
            "\n",
            "remaining:  WIN_20180907_15_39_51_Pro_Stop Gesture_new;Left_Swipe_new;0\n",
            "\n",
            "remaining:  WIN_20180907_15_39_54_Pro_Thumbs Up_new;Left_Swipe_new;0\n",
            "\n",
            "remaining:  WIN_20180907_15_39_51_Pro_Stop Gesture_new;Left_Swipe_new;0\n",
            "\n",
            "remaining:  WIN_20180907_15_39_54_Pro_Thumbs Up_new;Left_Swipe_new;0\n",
            "\n",
            "remaining:  WIN_20180907_15_39_51_Pro_Stop Gesture_new;Left_Swipe_new;0\n",
            "\n",
            "remaining:  WIN_20180907_15_39_54_Pro_Thumbs Up_new;Left_Swipe_new;0\n",
            "\n",
            "remaining:  WIN_20180907_15_39_51_Pro_Stop Gesture_new;Left_Swipe_new;0\n",
            "\n",
            "remaining:  WIN_20180907_15_39_54_Pro_Thumbs Up_new;Left_Swipe_new;0\n",
            "\n",
            "remaining:  WIN_20180907_15_39_51_Pro_Stop Gesture_new;Left_Swipe_new;0\n",
            "\n",
            "remaining:  WIN_20180907_15_39_54_Pro_Thumbs Up_new;Left_Swipe_new;0\n",
            "\n",
            "remaining:  WIN_20180907_15_39_51_Pro_Stop Gesture_new;Left_Swipe_new;0\n",
            "\n",
            "remaining:  WIN_20180907_15_39_54_Pro_Thumbs Up_new;Left_Swipe_new;0\n",
            "\n",
            "remaining:  WIN_20180907_15_39_51_Pro_Stop Gesture_new;Left_Swipe_new;0\n",
            "\n",
            "remaining:  WIN_20180907_15_39_54_Pro_Thumbs Up_new;Left_Swipe_new;0\n",
            "\n",
            "remaining:  WIN_20180907_15_39_51_Pro_Stop Gesture_new;Left_Swipe_new;0\n",
            "\n",
            "remaining:  WIN_20180907_15_39_54_Pro_Thumbs Up_new;Left_Swipe_new;0\n",
            "\n",
            "remaining:  WIN_20180907_15_39_51_Pro_Stop Gesture_new;Left_Swipe_new;0\n",
            "\n",
            "remaining:  WIN_20180907_15_39_54_Pro_Thumbs Up_new;Left_Swipe_new;0\n",
            "\n",
            "remaining:  WIN_20180907_15_39_51_Pro_Stop Gesture_new;Left_Swipe_new;0\n",
            "\n",
            "remaining:  WIN_20180907_15_39_54_Pro_Thumbs Up_new;Left_Swipe_new;0\n",
            "\n",
            "remaining:  WIN_20180907_15_39_51_Pro_Stop Gesture_new;Left_Swipe_new;0\n",
            "\n",
            "remaining:  WIN_20180907_15_39_54_Pro_Thumbs Up_new;Left_Swipe_new;0\n",
            "\n",
            "remaining:  WIN_20180907_15_39_51_Pro_Stop Gesture_new;Left_Swipe_new;0\n",
            "\n",
            "remaining:  WIN_20180907_15_39_54_Pro_Thumbs Up_new;Left_Swipe_new;0\n",
            "\n",
            "remaining:  WIN_20180907_15_39_51_Pro_Stop Gesture_new;Left_Swipe_new;0\n",
            "\n",
            "remaining:  WIN_20180907_15_39_54_Pro_Thumbs Up_new;Left_Swipe_new;0\n",
            "\n",
            "remaining:  WIN_20180907_15_39_51_Pro_Stop Gesture_new;Left_Swipe_new;0\n",
            "\n",
            "remaining:  WIN_20180907_15_39_54_Pro_Thumbs Up_new;Left_Swipe_new;0\n",
            "\n",
            "remaining:  WIN_20180907_15_39_51_Pro_Stop Gesture_new;Left_Swipe_new;0\n",
            "\n",
            "remaining:  WIN_20180907_15_39_54_Pro_Thumbs Up_new;Left_Swipe_new;0\n",
            "\n",
            "remaining:  WIN_20180907_15_39_51_Pro_Stop Gesture_new;Left_Swipe_new;0\n",
            "\n",
            "remaining:  WIN_20180907_15_39_54_Pro_Thumbs Up_new;Left_Swipe_new;0\n",
            "\n",
            "remaining:  WIN_20180907_15_39_51_Pro_Stop Gesture_new;Left_Swipe_new;0\n",
            "\n",
            "remaining:  WIN_20180907_15_39_54_Pro_Thumbs Up_new;Left_Swipe_new;0\n",
            "\n",
            "remaining:  WIN_20180907_15_39_51_Pro_Stop Gesture_new;Left_Swipe_new;0\n",
            "\n",
            "remaining:  WIN_20180907_15_39_54_Pro_Thumbs Up_new;Left_Swipe_new;0\n",
            "\n",
            "remaining:  WIN_20180907_15_39_51_Pro_Stop Gesture_new;Left_Swipe_new;0\n",
            "\n",
            "remaining:  WIN_20180907_15_39_54_Pro_Thumbs Up_new;Left_Swipe_new;0\n",
            "\n",
            "remaining:  WIN_20180907_15_39_51_Pro_Stop Gesture_new;Left_Swipe_new;0\n",
            "\n",
            "remaining:  WIN_20180907_15_39_54_Pro_Thumbs Up_new;Left_Swipe_new;0\n",
            "\n",
            "remaining:  WIN_20180907_15_39_51_Pro_Stop Gesture_new;Left_Swipe_new;0\n",
            "\n",
            "remaining:  WIN_20180907_15_39_54_Pro_Thumbs Up_new;Left_Swipe_new;0\n",
            "\n",
            "remaining:  WIN_20180907_15_39_51_Pro_Stop Gesture_new;Left_Swipe_new;0\n",
            "\n",
            "remaining:  WIN_20180907_15_39_54_Pro_Thumbs Up_new;Left_Swipe_new;0\n",
            "\n",
            "remaining:  WIN_20180907_15_39_51_Pro_Stop Gesture_new;Left_Swipe_new;0\n",
            "\n",
            "remaining:  WIN_20180907_15_39_54_Pro_Thumbs Up_new;Left_Swipe_new;0\n",
            "\n",
            "remaining:  WIN_20180907_15_39_51_Pro_Stop Gesture_new;Left_Swipe_new;0\n",
            "\n"
          ]
        },
        {
          "output_type": "error",
          "ename": "KeyboardInterrupt",
          "evalue": "",
          "traceback": [
            "\u001b[0;31m---------------------------------------------------------------------------\u001b[0m",
            "\u001b[0;31mKeyboardInterrupt\u001b[0m                         Traceback (most recent call last)",
            "\u001b[0;32m<ipython-input-40-55ad97c5b014>\u001b[0m in \u001b[0;36m<cell line: 4>\u001b[0;34m()\u001b[0m\n\u001b[1;32m      2\u001b[0m \u001b[0mfolder_list\u001b[0m \u001b[0;34m=\u001b[0m \u001b[0mtrain_doc2\u001b[0m\u001b[0;34m\u001b[0m\u001b[0;34m\u001b[0m\u001b[0m\n\u001b[1;32m      3\u001b[0m \u001b[0mbatch_size\u001b[0m \u001b[0;34m=\u001b[0m \u001b[0;36m4\u001b[0m\u001b[0;34m\u001b[0m\u001b[0;34m\u001b[0m\u001b[0m\n\u001b[0;32m----> 4\u001b[0;31m \u001b[0mgenerator\u001b[0m\u001b[0;34m(\u001b[0m\u001b[0msource_path\u001b[0m\u001b[0;34m,\u001b[0m \u001b[0mfolder_list\u001b[0m\u001b[0;34m,\u001b[0m \u001b[0mbatch_size\u001b[0m\u001b[0;34m)\u001b[0m\u001b[0;34m\u001b[0m\u001b[0;34m\u001b[0m\u001b[0m\n\u001b[0m",
            "\u001b[0;32m<ipython-input-39-0172fd974cc0>\u001b[0m in \u001b[0;36mgenerator\u001b[0;34m(source_path, folder_list, batch_size)\u001b[0m\n\u001b[1;32m     52\u001b[0m             \u001b[0mimgs\u001b[0m \u001b[0;34m=\u001b[0m \u001b[0mos\u001b[0m\u001b[0;34m.\u001b[0m\u001b[0mlistdir\u001b[0m\u001b[0;34m(\u001b[0m\u001b[0msource_path\u001b[0m\u001b[0;34m+\u001b[0m\u001b[0;34m'/'\u001b[0m\u001b[0;34m+\u001b[0m \u001b[0mt\u001b[0m\u001b[0;34m[\u001b[0m\u001b[0mfolder\u001b[0m\u001b[0;34m]\u001b[0m\u001b[0;34m.\u001b[0m\u001b[0msplit\u001b[0m\u001b[0;34m(\u001b[0m\u001b[0;34m';'\u001b[0m\u001b[0;34m)\u001b[0m\u001b[0;34m[\u001b[0m\u001b[0;36m0\u001b[0m\u001b[0;34m]\u001b[0m\u001b[0;34m)\u001b[0m \u001b[0;31m# read all the images in the folder\u001b[0m\u001b[0;34m\u001b[0m\u001b[0;34m\u001b[0m\u001b[0m\n\u001b[1;32m     53\u001b[0m             \u001b[0;32mfor\u001b[0m \u001b[0midx\u001b[0m\u001b[0;34m,\u001b[0m\u001b[0mitem\u001b[0m \u001b[0;32min\u001b[0m \u001b[0menumerate\u001b[0m\u001b[0;34m(\u001b[0m\u001b[0mimg_idx\u001b[0m\u001b[0;34m)\u001b[0m\u001b[0;34m:\u001b[0m \u001b[0;31m#  Iterate iver the frames/images of a folder to read them in\u001b[0m\u001b[0;34m\u001b[0m\u001b[0;34m\u001b[0m\u001b[0m\n\u001b[0;32m---> 54\u001b[0;31m                 \u001b[0mimage\u001b[0m \u001b[0;34m=\u001b[0m \u001b[0mimread\u001b[0m\u001b[0;34m(\u001b[0m\u001b[0msource_path\u001b[0m\u001b[0;34m+\u001b[0m\u001b[0;34m'/'\u001b[0m\u001b[0;34m+\u001b[0m \u001b[0mt\u001b[0m\u001b[0;34m[\u001b[0m\u001b[0mfolder\u001b[0m\u001b[0;34m]\u001b[0m\u001b[0;34m.\u001b[0m\u001b[0mstrip\u001b[0m\u001b[0;34m(\u001b[0m\u001b[0;34m)\u001b[0m\u001b[0;34m.\u001b[0m\u001b[0msplit\u001b[0m\u001b[0;34m(\u001b[0m\u001b[0;34m';'\u001b[0m\u001b[0;34m)\u001b[0m\u001b[0;34m[\u001b[0m\u001b[0;36m0\u001b[0m\u001b[0;34m]\u001b[0m\u001b[0;34m+\u001b[0m\u001b[0;34m'/'\u001b[0m\u001b[0;34m+\u001b[0m\u001b[0mimgs\u001b[0m\u001b[0;34m[\u001b[0m\u001b[0mitem\u001b[0m\u001b[0;34m]\u001b[0m\u001b[0;34m)\u001b[0m\u001b[0;34m.\u001b[0m\u001b[0mastype\u001b[0m\u001b[0;34m(\u001b[0m\u001b[0mnp\u001b[0m\u001b[0;34m.\u001b[0m\u001b[0mfloat32\u001b[0m\u001b[0;34m)\u001b[0m\u001b[0;34m\u001b[0m\u001b[0;34m\u001b[0m\u001b[0m\n\u001b[0m\u001b[1;32m     55\u001b[0m \u001b[0;34m\u001b[0m\u001b[0m\n\u001b[1;32m     56\u001b[0m                 \u001b[0;31m#crop the images and resize them. Note that the images are of 2 different shape\u001b[0m\u001b[0;34m\u001b[0m\u001b[0;34m\u001b[0m\u001b[0m\n",
            "\u001b[0;32m/usr/local/lib/python3.10/dist-packages/imageio/__init__.py\u001b[0m in \u001b[0;36mimread\u001b[0;34m(uri, format, **kwargs)\u001b[0m\n\u001b[1;32m     95\u001b[0m     )\n\u001b[1;32m     96\u001b[0m \u001b[0;34m\u001b[0m\u001b[0m\n\u001b[0;32m---> 97\u001b[0;31m     \u001b[0;32mreturn\u001b[0m \u001b[0mimread_v2\u001b[0m\u001b[0;34m(\u001b[0m\u001b[0muri\u001b[0m\u001b[0;34m,\u001b[0m \u001b[0mformat\u001b[0m\u001b[0;34m=\u001b[0m\u001b[0mformat\u001b[0m\u001b[0;34m,\u001b[0m \u001b[0;34m**\u001b[0m\u001b[0mkwargs\u001b[0m\u001b[0;34m)\u001b[0m\u001b[0;34m\u001b[0m\u001b[0;34m\u001b[0m\u001b[0m\n\u001b[0m\u001b[1;32m     98\u001b[0m \u001b[0;34m\u001b[0m\u001b[0m\n\u001b[1;32m     99\u001b[0m \u001b[0;34m\u001b[0m\u001b[0m\n",
            "\u001b[0;32m/usr/local/lib/python3.10/dist-packages/imageio/v2.py\u001b[0m in \u001b[0;36mimread\u001b[0;34m(uri, format, **kwargs)\u001b[0m\n\u001b[1;32m    357\u001b[0m     \u001b[0mimopen_args\u001b[0m\u001b[0;34m[\u001b[0m\u001b[0;34m\"legacy_mode\"\u001b[0m\u001b[0;34m]\u001b[0m \u001b[0;34m=\u001b[0m \u001b[0;32mTrue\u001b[0m\u001b[0;34m\u001b[0m\u001b[0;34m\u001b[0m\u001b[0m\n\u001b[1;32m    358\u001b[0m \u001b[0;34m\u001b[0m\u001b[0m\n\u001b[0;32m--> 359\u001b[0;31m     \u001b[0;32mwith\u001b[0m \u001b[0mimopen\u001b[0m\u001b[0;34m(\u001b[0m\u001b[0muri\u001b[0m\u001b[0;34m,\u001b[0m \u001b[0;34m\"ri\"\u001b[0m\u001b[0;34m,\u001b[0m \u001b[0;34m**\u001b[0m\u001b[0mimopen_args\u001b[0m\u001b[0;34m)\u001b[0m \u001b[0;32mas\u001b[0m \u001b[0mfile\u001b[0m\u001b[0;34m:\u001b[0m\u001b[0;34m\u001b[0m\u001b[0;34m\u001b[0m\u001b[0m\n\u001b[0m\u001b[1;32m    360\u001b[0m         \u001b[0mresult\u001b[0m \u001b[0;34m=\u001b[0m \u001b[0mfile\u001b[0m\u001b[0;34m.\u001b[0m\u001b[0mread\u001b[0m\u001b[0;34m(\u001b[0m\u001b[0mindex\u001b[0m\u001b[0;34m=\u001b[0m\u001b[0;36m0\u001b[0m\u001b[0;34m,\u001b[0m \u001b[0;34m**\u001b[0m\u001b[0mkwargs\u001b[0m\u001b[0;34m)\u001b[0m\u001b[0;34m\u001b[0m\u001b[0;34m\u001b[0m\u001b[0m\n\u001b[1;32m    361\u001b[0m \u001b[0;34m\u001b[0m\u001b[0m\n",
            "\u001b[0;32m/usr/local/lib/python3.10/dist-packages/imageio/core/imopen.py\u001b[0m in \u001b[0;36mimopen\u001b[0;34m(uri, io_mode, plugin, extension, format_hint, legacy_mode, **kwargs)\u001b[0m\n\u001b[1;32m    111\u001b[0m         \u001b[0mrequest\u001b[0m\u001b[0;34m.\u001b[0m\u001b[0mformat_hint\u001b[0m \u001b[0;34m=\u001b[0m \u001b[0mformat_hint\u001b[0m\u001b[0;34m\u001b[0m\u001b[0;34m\u001b[0m\u001b[0m\n\u001b[1;32m    112\u001b[0m     \u001b[0;32melse\u001b[0m\u001b[0;34m:\u001b[0m\u001b[0;34m\u001b[0m\u001b[0;34m\u001b[0m\u001b[0m\n\u001b[0;32m--> 113\u001b[0;31m         \u001b[0mrequest\u001b[0m \u001b[0;34m=\u001b[0m \u001b[0mRequest\u001b[0m\u001b[0;34m(\u001b[0m\u001b[0muri\u001b[0m\u001b[0;34m,\u001b[0m \u001b[0mio_mode\u001b[0m\u001b[0;34m,\u001b[0m \u001b[0mformat_hint\u001b[0m\u001b[0;34m=\u001b[0m\u001b[0mformat_hint\u001b[0m\u001b[0;34m,\u001b[0m \u001b[0mextension\u001b[0m\u001b[0;34m=\u001b[0m\u001b[0mextension\u001b[0m\u001b[0;34m)\u001b[0m\u001b[0;34m\u001b[0m\u001b[0;34m\u001b[0m\u001b[0m\n\u001b[0m\u001b[1;32m    114\u001b[0m \u001b[0;34m\u001b[0m\u001b[0m\n\u001b[1;32m    115\u001b[0m     \u001b[0msource\u001b[0m \u001b[0;34m=\u001b[0m \u001b[0;34m\"<bytes>\"\u001b[0m \u001b[0;32mif\u001b[0m \u001b[0misinstance\u001b[0m\u001b[0;34m(\u001b[0m\u001b[0muri\u001b[0m\u001b[0;34m,\u001b[0m \u001b[0mbytes\u001b[0m\u001b[0;34m)\u001b[0m \u001b[0;32melse\u001b[0m \u001b[0muri\u001b[0m\u001b[0;34m\u001b[0m\u001b[0;34m\u001b[0m\u001b[0m\n",
            "\u001b[0;32m/usr/local/lib/python3.10/dist-packages/imageio/core/request.py\u001b[0m in \u001b[0;36m__init__\u001b[0;34m(self, uri, mode, extension, format_hint, **kwargs)\u001b[0m\n\u001b[1;32m    246\u001b[0m \u001b[0;34m\u001b[0m\u001b[0m\n\u001b[1;32m    247\u001b[0m         \u001b[0;31m# Parse what was given\u001b[0m\u001b[0;34m\u001b[0m\u001b[0;34m\u001b[0m\u001b[0m\n\u001b[0;32m--> 248\u001b[0;31m         \u001b[0mself\u001b[0m\u001b[0;34m.\u001b[0m\u001b[0m_parse_uri\u001b[0m\u001b[0;34m(\u001b[0m\u001b[0muri\u001b[0m\u001b[0;34m)\u001b[0m\u001b[0;34m\u001b[0m\u001b[0;34m\u001b[0m\u001b[0m\n\u001b[0m\u001b[1;32m    249\u001b[0m \u001b[0;34m\u001b[0m\u001b[0m\n\u001b[1;32m    250\u001b[0m         \u001b[0;31m# Set extension\u001b[0m\u001b[0;34m\u001b[0m\u001b[0;34m\u001b[0m\u001b[0m\n",
            "\u001b[0;32m/usr/local/lib/python3.10/dist-packages/imageio/core/request.py\u001b[0m in \u001b[0;36m_parse_uri\u001b[0;34m(self, uri)\u001b[0m\n\u001b[1;32m    380\u001b[0m             \u001b[0;32mif\u001b[0m \u001b[0mself\u001b[0m\u001b[0;34m.\u001b[0m\u001b[0m_filename_zip\u001b[0m\u001b[0;34m:\u001b[0m\u001b[0;34m\u001b[0m\u001b[0;34m\u001b[0m\u001b[0m\n\u001b[1;32m    381\u001b[0m                 \u001b[0mfn\u001b[0m \u001b[0;34m=\u001b[0m \u001b[0mself\u001b[0m\u001b[0;34m.\u001b[0m\u001b[0m_filename_zip\u001b[0m\u001b[0;34m[\u001b[0m\u001b[0;36m0\u001b[0m\u001b[0;34m]\u001b[0m\u001b[0;34m\u001b[0m\u001b[0;34m\u001b[0m\u001b[0m\n\u001b[0;32m--> 382\u001b[0;31m             \u001b[0;32mif\u001b[0m \u001b[0;34m(\u001b[0m\u001b[0;32mnot\u001b[0m \u001b[0mos\u001b[0m\u001b[0;34m.\u001b[0m\u001b[0mpath\u001b[0m\u001b[0;34m.\u001b[0m\u001b[0mexists\u001b[0m\u001b[0;34m(\u001b[0m\u001b[0mfn\u001b[0m\u001b[0;34m)\u001b[0m\u001b[0;34m)\u001b[0m \u001b[0;32mand\u001b[0m \u001b[0;34m(\u001b[0m\u001b[0mfn\u001b[0m \u001b[0;32min\u001b[0m \u001b[0mEXAMPLE_IMAGES\u001b[0m\u001b[0;34m)\u001b[0m\u001b[0;34m:\u001b[0m\u001b[0;34m\u001b[0m\u001b[0;34m\u001b[0m\u001b[0m\n\u001b[0m\u001b[1;32m    383\u001b[0m                 raise IOError(\n\u001b[1;32m    384\u001b[0m                     \u001b[0;34m\"No such file: %r. This file looks like one of \"\u001b[0m\u001b[0;34m\u001b[0m\u001b[0;34m\u001b[0m\u001b[0m\n",
            "\u001b[0;32m/usr/lib/python3.10/genericpath.py\u001b[0m in \u001b[0;36mexists\u001b[0;34m(path)\u001b[0m\n\u001b[1;32m     17\u001b[0m     \u001b[0;34m\"\"\"Test whether a path exists.  Returns False for broken symbolic links\"\"\"\u001b[0m\u001b[0;34m\u001b[0m\u001b[0;34m\u001b[0m\u001b[0m\n\u001b[1;32m     18\u001b[0m     \u001b[0;32mtry\u001b[0m\u001b[0;34m:\u001b[0m\u001b[0;34m\u001b[0m\u001b[0;34m\u001b[0m\u001b[0m\n\u001b[0;32m---> 19\u001b[0;31m         \u001b[0mos\u001b[0m\u001b[0;34m.\u001b[0m\u001b[0mstat\u001b[0m\u001b[0;34m(\u001b[0m\u001b[0mpath\u001b[0m\u001b[0;34m)\u001b[0m\u001b[0;34m\u001b[0m\u001b[0;34m\u001b[0m\u001b[0m\n\u001b[0m\u001b[1;32m     20\u001b[0m     \u001b[0;32mexcept\u001b[0m \u001b[0;34m(\u001b[0m\u001b[0mOSError\u001b[0m\u001b[0;34m,\u001b[0m \u001b[0mValueError\u001b[0m\u001b[0;34m)\u001b[0m\u001b[0;34m:\u001b[0m\u001b[0;34m\u001b[0m\u001b[0;34m\u001b[0m\u001b[0m\n\u001b[1;32m     21\u001b[0m         \u001b[0;32mreturn\u001b[0m \u001b[0;32mFalse\u001b[0m\u001b[0;34m\u001b[0m\u001b[0;34m\u001b[0m\u001b[0m\n",
            "\u001b[0;31mKeyboardInterrupt\u001b[0m: "
          ]
        }
      ]
    },
    {
      "cell_type": "code",
      "source": [
        "def generator(source_path, folder_list, batch_size):\n",
        "    print( 'Source path = ', source_path, '; batch size =', batch_size)\n",
        "\n",
        "source_path = '/content/drive/My Drive/AI/Upgrad/Gesture_Recognition_CaseStudy/Project_data/temp'\n",
        "folder_list = '/content/drive/My Drive/AI/Upgrad/Gesture_Recognition_CaseStudy/Project_data/temp/train.csv'\n",
        "batch_size = 4\n",
        "generator(source_path, folder_list, batch_size)"
      ],
      "metadata": {
        "colab": {
          "base_uri": "https://localhost:8080/"
        },
        "id": "3QtRtehyfD6R",
        "outputId": "537939fe-4bf5-4117-941b-f817672e23d2"
      },
      "execution_count": 21,
      "outputs": [
        {
          "output_type": "stream",
          "name": "stdout",
          "text": [
            "Source path =  /content/drive/My Drive/AI/Upgrad/Gesture_Recognition_CaseStudy/Project_data/temp ; batch size = 4\n"
          ]
        }
      ]
    },
    {
      "cell_type": "markdown",
      "metadata": {
        "id": "uI9tJ5B81Mxh"
      },
      "source": [
        "Note here that a video is represented above in the generator as (number of images, height, width, number of channels). Take this into consideration while creating the model architecture."
      ]
    },
    {
      "cell_type": "code",
      "execution_count": null,
      "metadata": {
        "id": "I6CQfGCa1Mxh"
      },
      "outputs": [],
      "source": [
        "curr_dt_time = datetime.datetime.now()\n",
        "train_path = '/notebooks/storage/Final_data/Collated_training/train'\n",
        "val_path = '/notebooks/storage/Final_data/Collated_training/val'\n",
        "num_train_sequences = len(train_doc)\n",
        "print('# training sequences =', num_train_sequences)\n",
        "num_val_sequences = len(val_doc)\n",
        "print('# validation sequences =', num_val_sequences)\n",
        "num_epochs = # choose the number of epochs\n",
        "print ('# epochs =', num_epochs)"
      ]
    },
    {
      "cell_type": "markdown",
      "metadata": {
        "id": "Cqg028uQ1Mxh"
      },
      "source": [
        "## Model\n",
        "Here you make the model using different functionalities that Keras provides. Remember to use `Conv3D` and `MaxPooling3D` and not `Conv2D` and `Maxpooling2D` for a 3D convolution model. You would want to use `TimeDistributed` while building a Conv2D + RNN model. Also remember that the last layer is the softmax. Design the network in such a way that the model is able to give good accuracy on the least number of parameters so that it can fit in the memory of the webcam."
      ]
    },
    {
      "cell_type": "code",
      "execution_count": null,
      "metadata": {
        "id": "2aV4f7Lz1Mxh"
      },
      "outputs": [],
      "source": [
        "from keras.models import Sequential, Model\n",
        "from keras.layers import Dense, GRU, Flatten, TimeDistributed, Flatten, BatchNormalization, Activation\n",
        "from keras.layers.convolutional import Conv3D, MaxPooling3D\n",
        "from keras.callbacks import ModelCheckpoint, ReduceLROnPlateau\n",
        "from keras import optimizers\n",
        "\n",
        "#write your model here"
      ]
    },
    {
      "cell_type": "markdown",
      "metadata": {
        "id": "DvbDpWrY1Mxh"
      },
      "source": [
        "Now that you have written the model, the next step is to `compile` the model. When you print the `summary` of the model, you'll see the total number of parameters you have to train."
      ]
    },
    {
      "cell_type": "code",
      "execution_count": null,
      "metadata": {
        "scrolled": true,
        "id": "LBalP6Wp1Mxh"
      },
      "outputs": [],
      "source": [
        "optimiser = #write your optimizer\n",
        "model.compile(optimizer=optimiser, loss='categorical_crossentropy', metrics=['categorical_accuracy'])\n",
        "print (model.summary())"
      ]
    },
    {
      "cell_type": "markdown",
      "metadata": {
        "id": "XRzUEIxd1Mxh"
      },
      "source": [
        "Let us create the `train_generator` and the `val_generator` which will be used in `.fit_generator`."
      ]
    },
    {
      "cell_type": "code",
      "execution_count": null,
      "metadata": {
        "id": "3BTVKYP91Mxh"
      },
      "outputs": [],
      "source": [
        "train_generator = generator(train_path, train_doc, batch_size)\n",
        "val_generator = generator(val_path, val_doc, batch_size)"
      ]
    },
    {
      "cell_type": "code",
      "execution_count": null,
      "metadata": {
        "id": "1f_T61A21Mxh"
      },
      "outputs": [],
      "source": [
        "model_name = 'model_init' + '_' + str(curr_dt_time).replace(' ','').replace(':','_') + '/'\n",
        "\n",
        "if not os.path.exists(model_name):\n",
        "    os.mkdir(model_name)\n",
        "\n",
        "filepath = model_name + 'model-{epoch:05d}-{loss:.5f}-{categorical_accuracy:.5f}-{val_loss:.5f}-{val_categorical_accuracy:.5f}.h5'\n",
        "\n",
        "checkpoint = ModelCheckpoint(filepath, monitor='val_loss', verbose=1, save_best_only=False, save_weights_only=False, mode='auto', period=1)\n",
        "\n",
        "LR = # write the REducelronplateau code here\n",
        "callbacks_list = [checkpoint, LR]"
      ]
    },
    {
      "cell_type": "markdown",
      "metadata": {
        "id": "XwB9AzBu1Mxi"
      },
      "source": [
        "The `steps_per_epoch` and `validation_steps` are used by `fit_generator` to decide the number of next() calls it need to make."
      ]
    },
    {
      "cell_type": "code",
      "execution_count": null,
      "metadata": {
        "id": "kIezn1Kn1Mxi"
      },
      "outputs": [],
      "source": [
        "if (num_train_sequences%batch_size) == 0:\n",
        "    steps_per_epoch = int(num_train_sequences/batch_size)\n",
        "else:\n",
        "    steps_per_epoch = (num_train_sequences//batch_size) + 1\n",
        "\n",
        "if (num_val_sequences%batch_size) == 0:\n",
        "    validation_steps = int(num_val_sequences/batch_size)\n",
        "else:\n",
        "    validation_steps = (num_val_sequences//batch_size) + 1"
      ]
    },
    {
      "cell_type": "markdown",
      "metadata": {
        "id": "_gkqSVi_1Mxi"
      },
      "source": [
        "Let us now fit the model. This will start training the model and with the help of the checkpoints, you'll be able to save the model at the end of each epoch."
      ]
    },
    {
      "cell_type": "code",
      "execution_count": null,
      "metadata": {
        "id": "1SxKNpzC1Mxi"
      },
      "outputs": [],
      "source": [
        "model.fit_generator(train_generator, steps_per_epoch=steps_per_epoch, epochs=num_epochs, verbose=1,\n",
        "                    callbacks=callbacks_list, validation_data=val_generator,\n",
        "                    validation_steps=validation_steps, class_weight=None, workers=1, initial_epoch=0)"
      ]
    },
    {
      "cell_type": "code",
      "execution_count": null,
      "metadata": {
        "id": "CuzUX6Bl1Mxi"
      },
      "outputs": [],
      "source": []
    }
  ],
  "metadata": {
    "kernelspec": {
      "display_name": "Python 3 (ipykernel)",
      "language": "python",
      "name": "python3"
    },
    "language_info": {
      "codemirror_mode": {
        "name": "ipython",
        "version": 3
      },
      "file_extension": ".py",
      "mimetype": "text/x-python",
      "name": "python",
      "nbconvert_exporter": "python",
      "pygments_lexer": "ipython3",
      "version": "3.11.7"
    },
    "colab": {
      "provenance": []
    }
  },
  "nbformat": 4,
  "nbformat_minor": 0
}